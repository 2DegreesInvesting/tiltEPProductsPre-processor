{
 "cells": [
  {
   "cell_type": "markdown",
   "metadata": {
    "application/vnd.databricks.v1+cell": {
     "cellMetadata": {},
     "inputWidgets": {},
     "nuid": "a71753e7-6deb-45c3-a226-af7cdec0e394",
     "showTitle": false,
     "title": ""
    }
   },
   "source": [
    "# 2. Translate the input products"
   ]
  },
  {
   "cell_type": "markdown",
   "metadata": {
    "application/vnd.databricks.v1+cell": {
     "cellMetadata": {},
     "inputWidgets": {},
     "nuid": "2447feb3-753a-4e72-a72e-0bf689a7cac8",
     "showTitle": false,
     "title": ""
    }
   },
   "source": [
    "## 2.1 Import the required libaries"
   ]
  },
  {
   "cell_type": "code",
   "execution_count": 7,
   "metadata": {
    "application/vnd.databricks.v1+cell": {
     "cellMetadata": {
      "byteLimit": 2048000,
      "rowLimit": 10000
     },
     "inputWidgets": {},
     "nuid": "922c33d3-4f90-4c1d-b25d-37955e860fc1",
     "showTitle": false,
     "title": ""
    }
   },
   "outputs": [
    {
     "name": "stdout",
     "output_type": "stream",
     "text": [
      "INFO: Pandarallel will run on 10 workers.\n",
      "INFO: Pandarallel will use standard multiprocessing data transfer (pipe) to transfer data between the main process and workers.\n"
     ]
    }
   ],
   "source": [
    "from deep_translator import GoogleTranslator\n",
    "from pandarallel import pandarallel\n",
    "from tqdm import tqdm\n",
    "\n",
    "import pandas as pd\n",
    "import numpy as np\n",
    "import os\n",
    "\n",
    "tqdm.pandas()\n",
    "\n",
    "pandarallel.initialize(progress_bar=True)\n",
    "\n",
    "translator = GoogleTranslator(source='auto', target='en')"
   ]
  },
  {
   "cell_type": "markdown",
   "metadata": {
    "application/vnd.databricks.v1+cell": {
     "cellMetadata": {},
     "inputWidgets": {},
     "nuid": "b9cdd112-f4a3-48b5-86a4-3b092c7c31cf",
     "showTitle": false,
     "title": ""
    }
   },
   "source": [
    "## 2.2 Load in the dataset"
   ]
  },
  {
   "cell_type": "code",
   "execution_count": 8,
   "metadata": {
    "application/vnd.databricks.v1+cell": {
     "cellMetadata": {
      "byteLimit": 2048000,
      "rowLimit": 10000
     },
     "inputWidgets": {},
     "nuid": "8d3a5cf7-8184-4659-8799-18ac5e24cd85",
     "showTitle": false,
     "title": ""
    }
   },
   "outputs": [],
   "source": [
    "if 'DATABRICKS_RUNTIME_VERSION' in os.environ:\n",
    "    pass\n",
    "else:\n",
    "    # Obtain the file from the Azure Cloud Container\n",
    "    input_file_location = \"../../data/example_data/output/tilt_products_typo_corrected.csv\"\n",
    "    # Read the data into a DataFrame\n",
    "    corrected_df = pd.read_csv(input_file_location)"
   ]
  },
  {
   "cell_type": "markdown",
   "metadata": {
    "application/vnd.databricks.v1+cell": {
     "cellMetadata": {},
     "inputWidgets": {},
     "nuid": "ab154959-14fe-4150-8b21-467a633136c9",
     "showTitle": false,
     "title": ""
    }
   },
   "source": [
    "## 2.3 Translate dataframe"
   ]
  },
  {
   "cell_type": "markdown",
   "metadata": {
    "application/vnd.databricks.v1+cell": {
     "cellMetadata": {},
     "inputWidgets": {},
     "nuid": "9bb764a8-3990-4347-9b21-9ca80b2035c4",
     "showTitle": false,
     "title": ""
    }
   },
   "source": [
    "### Helper functions"
   ]
  },
  {
   "cell_type": "code",
   "execution_count": 9,
   "metadata": {
    "application/vnd.databricks.v1+cell": {
     "cellMetadata": {},
     "inputWidgets": {},
     "nuid": "4932fbc8-dc29-45b1-b08a-4ba1882d83af",
     "showTitle": false,
     "title": ""
    }
   },
   "outputs": [],
   "source": [
    "def translate_Google(text):\n",
    "    \"\"\"\n",
    "    This function translates the text into English using Google Translator\n",
    "    \"\"\"\n",
    "    \n",
    "    try:\n",
    "        translated = translator.translate(text)\n",
    "        return translated\n",
    "    except:\n",
    "        return np.nan"
   ]
  },
  {
   "cell_type": "markdown",
   "metadata": {
    "application/vnd.databricks.v1+cell": {
     "cellMetadata": {},
     "inputWidgets": {},
     "nuid": "a9ea4f3f-49ab-4b3d-9703-1192f873a3f8",
     "showTitle": false,
     "title": ""
    }
   },
   "source": [
    "### Google translator module"
   ]
  },
  {
   "cell_type": "code",
   "execution_count": 11,
   "metadata": {
    "application/vnd.databricks.v1+cell": {
     "cellMetadata": {},
     "inputWidgets": {},
     "nuid": "5516abcd-aac3-40e3-b150-54387c63369e",
     "showTitle": false,
     "title": ""
    }
   },
   "outputs": [],
   "source": [
    "def translate_df(df):\n",
    "    \"\"\"\n",
    "    This function translates the dataframe into English using Google Translator\n",
    "\n",
    "    Args:\n",
    "        df (pd.DataFrame): The dataframe to be translated.\n",
    "    Returns:\n",
    "        translated_df (pd.DataFrame): The translated dataframe.\n",
    "    \"\"\"\n",
    "    # then take subset of english texts\n",
    "    print(\"Taking subset of non-english texts...\")\n",
    "    # filter out non-english texts and text that do not have a language code\n",
    "    non_english_df = df[(df[\"language (ISO-code)\"].isnull() == False) & (df[\"language (ISO-code)\"] != \"en\")]\n",
    "    # exclude the rows from non_english_df from the original df\n",
    "    df = df[~df.index.isin(non_english_df.index)]\n",
    "\n",
    "    # apply typo correction to english texts\n",
    "    print(\"Applying translation...\")\n",
    "    non_english_df = non_english_df.copy()\n",
    "    non_english_df.loc[:, 'translated_text'] = non_english_df['typo_corrected'].parallel_apply(translate_Google)\n",
    "\n",
    "    # merge the corrected english texts with the original df\n",
    "    print(\"Merging the corrected english texts with the original df...\\n\")\n",
    "    df = pd.concat([df, non_english_df], ignore_index=True)\n",
    "    \n",
    "    # replace empty values in translated column with the typo corrected text\n",
    "    df[\"translated_text\"].fillna(df[\"typo_corrected\"], inplace=True)\n",
    "    translated_df = df.copy().drop(columns=[\"typo_corrected\", \"language (ISO-code)\"]).rename(columns={\"products_and_services\":\"raw_products_and_services\",\"translated_text\": \"products_and_services\"})\n",
    "    return translated_df"
   ]
  },
  {
   "cell_type": "markdown",
   "metadata": {
    "application/vnd.databricks.v1+cell": {
     "cellMetadata": {},
     "inputWidgets": {},
     "nuid": "cdda22d9-9099-4c6c-9e70-e9608ead8cee",
     "showTitle": false,
     "title": ""
    }
   },
   "source": [
    "### Provided input Data"
   ]
  },
  {
   "cell_type": "code",
   "execution_count": 12,
   "metadata": {
    "application/vnd.databricks.v1+cell": {
     "cellMetadata": {},
     "inputWidgets": {},
     "nuid": "12e65581-dd4c-4815-be01-3d01e93b697e",
     "showTitle": false,
     "title": ""
    }
   },
   "outputs": [
    {
     "name": "stdout",
     "output_type": "stream",
     "text": [
      "Taking subset of non-english texts...\n",
      "Applying translation...\n"
     ]
    },
    {
     "data": {
      "application/vnd.jupyter.widget-view+json": {
       "model_id": "2cd73d88f2654e4482d0752ee1a5325d",
       "version_major": 2,
       "version_minor": 0
      },
      "text/plain": [
       "VBox(children=(HBox(children=(IntProgress(value=0, description='0.00%', max=870), Label(value='0 / 870'))), HB…"
      ]
     },
     "metadata": {},
     "output_type": "display_data"
    },
    {
     "name": "stdout",
     "output_type": "stream",
     "text": [
      "Merging the corrected english texts with the original df...\n",
      "\n"
     ]
    }
   ],
   "source": [
    "translated_df = translate_df(corrected_df)"
   ]
  },
  {
   "cell_type": "markdown",
   "metadata": {
    "application/vnd.databricks.v1+cell": {
     "cellMetadata": {},
     "inputWidgets": {},
     "nuid": "3ed9ea12-92bb-4357-9185-27525cd63d3d",
     "showTitle": false,
     "title": ""
    }
   },
   "source": [
    "## 2.4 Export the dataframe with the translated text"
   ]
  },
  {
   "cell_type": "code",
   "execution_count": 14,
   "metadata": {
    "application/vnd.databricks.v1+cell": {
     "cellMetadata": {
      "byteLimit": 2048000,
      "rowLimit": 10000
     },
     "inputWidgets": {},
     "nuid": "b858cbb2-23f9-4249-9a52-dc3d6a281d89",
     "showTitle": false,
     "title": ""
    }
   },
   "outputs": [],
   "source": [
    "if 'DATABRICKS_RUNTIME_VERSION' in os.environ:\n",
    "    pass\n",
    "else:\n",
    "    output_path_translated_df = \"../../data/example_data/output/tilt_products_translated.csv\"\n",
    "    translated_df.to_csv(output_path_translated_df)"
   ]
  }
 ],
 "metadata": {
  "application/vnd.databricks.v1+notebook": {
   "dashboards": [],
   "language": "python",
   "notebookMetadata": {
    "pythonIndentUnit": 4
   },
   "notebookName": "3-Translating",
   "widgets": {}
  },
  "kernelspec": {
   "display_name": "Python 3",
   "language": "python",
   "name": "python3"
  },
  "language_info": {
   "codemirror_mode": {
    "name": "ipython",
    "version": 3
   },
   "file_extension": ".py",
   "mimetype": "text/x-python",
   "name": "python",
   "nbconvert_exporter": "python",
   "pygments_lexer": "ipython3",
   "version": "3.10.13"
  }
 },
 "nbformat": 4,
 "nbformat_minor": 0
}
