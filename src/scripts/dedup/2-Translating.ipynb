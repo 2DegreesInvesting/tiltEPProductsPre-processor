{
 "cells": [
  {
   "cell_type": "markdown",
   "metadata": {
    "application/vnd.databricks.v1+cell": {
     "cellMetadata": {
      "byteLimit": 2048000,
      "rowLimit": 10000
     },
     "inputWidgets": {},
     "nuid": "a71753e7-6deb-45c3-a226-af7cdec0e394",
     "showTitle": false,
     "title": ""
    }
   },
   "source": [
    "# 2. Translate the input products"
   ]
  },
  {
   "cell_type": "markdown",
   "metadata": {
    "application/vnd.databricks.v1+cell": {
     "cellMetadata": {
      "byteLimit": 2048000,
      "rowLimit": 10000
     },
     "inputWidgets": {},
     "nuid": "2447feb3-753a-4e72-a72e-0bf689a7cac8",
     "showTitle": false,
     "title": ""
    }
   },
   "source": [
    "## 2.1 Import the required libaries"
   ]
  },
  {
   "cell_type": "code",
   "execution_count": 2,
   "metadata": {
    "application/vnd.databricks.v1+cell": {
     "cellMetadata": {
      "byteLimit": 2048000,
      "rowLimit": 10000
     },
     "inputWidgets": {},
     "nuid": "922c33d3-4f90-4c1d-b25d-37955e860fc1",
     "showTitle": false,
     "title": ""
    }
   },
   "outputs": [],
   "source": [
    "from deep_translator import GoogleTranslator # this package enables the translation of text into another language\n",
    "from googletrans import Translator # this package enables the translation of text into another language\n",
    "from transformers import pipeline\n",
    "from langdetect import detect_langs, DetectorFactory\n",
    "from textblob import TextBlob\n",
    "import spacy\n",
    "import pandas as pd\n",
    "import numpy as np\n",
    "from tqdm import tqdm\n",
    "tqdm.pandas()\n",
    "\n",
    "nlp = spacy.load('en_core_web_sm') \n",
    "language_detector = pipeline(\"text-classification\", model=\"papluca/xlm-roberta-base-language-detection\") # this model is 1.1 gigabyte so it will take around 5 mins to download it\n",
    "translator = Translator()\n",
    "\n",
    "DetectorFactory.seed = 0"
   ]
  },
  {
   "cell_type": "markdown",
   "metadata": {
    "application/vnd.databricks.v1+cell": {
     "cellMetadata": {
      "byteLimit": 2048000,
      "rowLimit": 10000
     },
     "inputWidgets": {},
     "nuid": "b9cdd112-f4a3-48b5-86a4-3b092c7c31cf",
     "showTitle": false,
     "title": ""
    }
   },
   "source": [
    "## 2.2 Load in the dataset"
   ]
  },
  {
   "cell_type": "markdown",
   "metadata": {},
   "source": [
    "### Base data"
   ]
  },
  {
   "cell_type": "code",
   "execution_count": null,
   "metadata": {
    "application/vnd.databricks.v1+cell": {
     "cellMetadata": {
      "byteLimit": 2048000,
      "rowLimit": 10000
     },
     "inputWidgets": {},
     "nuid": "8d3a5cf7-8184-4659-8799-18ac5e24cd85",
     "showTitle": false,
     "title": ""
    }
   },
   "outputs": [],
   "source": [
    "# Obtain the file from the Azure Cloud Container\n",
    "base_file_location = \"../../data/example_data/output/base_data/base_typo_corrected_products.csv\"\n",
    "\n",
    "# Read the data into a DataFrame\n",
    "base_corrected_df = pd.read_csv(base_file_location).drop(columns=['Unnamed: 0', 'products_and_services'])\n",
    "\n",
    "# Display the dataframe\n",
    "display(base_corrected_df)"
   ]
  },
  {
   "cell_type": "markdown",
   "metadata": {},
   "source": [
    "### new Italy data"
   ]
  },
  {
   "cell_type": "code",
   "execution_count": 12,
   "metadata": {},
   "outputs": [
    {
     "data": {
      "text/html": [
       "<div>\n",
       "<style scoped>\n",
       "    .dataframe tbody tr th:only-of-type {\n",
       "        vertical-align: middle;\n",
       "    }\n",
       "\n",
       "    .dataframe tbody tr th {\n",
       "        vertical-align: top;\n",
       "    }\n",
       "\n",
       "    .dataframe thead th {\n",
       "        text-align: right;\n",
       "    }\n",
       "</style>\n",
       "<table border=\"1\" class=\"dataframe\">\n",
       "  <thead>\n",
       "    <tr style=\"text-align: right;\">\n",
       "      <th></th>\n",
       "      <th>products_and_services</th>\n",
       "      <th>products_id</th>\n",
       "      <th>language (ISO-code)</th>\n",
       "      <th>typo_corrected</th>\n",
       "    </tr>\n",
       "  </thead>\n",
       "  <tbody>\n",
       "    <tr>\n",
       "      <th>0</th>\n",
       "      <td>persian blue salt</td>\n",
       "      <td>50abde66-58b7-4fb3-a007-1077fa41a010</td>\n",
       "      <td>ca</td>\n",
       "      <td>persian blue salt</td>\n",
       "    </tr>\n",
       "    <tr>\n",
       "      <th>1</th>\n",
       "      <td>rossoro</td>\n",
       "      <td>2b898f73-e699-4b52-926d-476b51dacd42</td>\n",
       "      <td>pt</td>\n",
       "      <td>rossoro</td>\n",
       "    </tr>\n",
       "    <tr>\n",
       "      <th>2</th>\n",
       "      <td>peas</td>\n",
       "      <td>a7849fec-bf97-48b0-b89b-cb910a8d6dc8</td>\n",
       "      <td>ro</td>\n",
       "      <td>peas</td>\n",
       "    </tr>\n",
       "    <tr>\n",
       "      <th>3</th>\n",
       "      <td>fuel</td>\n",
       "      <td>2a782696-0317-43ad-8f2d-0560e17acd8d</td>\n",
       "      <td>es</td>\n",
       "      <td>fuel</td>\n",
       "    </tr>\n",
       "    <tr>\n",
       "      <th>4</th>\n",
       "      <td>tomato paste</td>\n",
       "      <td>e815f6fd-7684-4f67-8cd3-7ca65edc43c6</td>\n",
       "      <td>it</td>\n",
       "      <td>tomato paste</td>\n",
       "    </tr>\n",
       "    <tr>\n",
       "      <th>...</th>\n",
       "      <td>...</td>\n",
       "      <td>...</td>\n",
       "      <td>...</td>\n",
       "      <td>...</td>\n",
       "    </tr>\n",
       "    <tr>\n",
       "      <th>3430</th>\n",
       "      <td>food supplies for catering industry</td>\n",
       "      <td>6a296ca9-9f97-42d8-8fc6-188e575990dd</td>\n",
       "      <td>en</td>\n",
       "      <td>food supplies for watering industry</td>\n",
       "    </tr>\n",
       "    <tr>\n",
       "      <th>3431</th>\n",
       "      <td>pleasure craft furnishings</td>\n",
       "      <td>f6ed20f1-2188-4cd1-8dc6-d873bca28c4a</td>\n",
       "      <td>en</td>\n",
       "      <td>pleasure craft furnishing</td>\n",
       "    </tr>\n",
       "    <tr>\n",
       "      <th>3432</th>\n",
       "      <td>divans, armchairs and chairs repaired</td>\n",
       "      <td>3f969e86-452e-41b6-8835-97436674c186</td>\n",
       "      <td>en</td>\n",
       "      <td>divan, armchairs and chairs repaired</td>\n",
       "    </tr>\n",
       "    <tr>\n",
       "      <th>3433</th>\n",
       "      <td>breathable and mould resistant plastic coverings</td>\n",
       "      <td>d675d682-018e-4829-ac66-e61155d7a45e</td>\n",
       "      <td>en</td>\n",
       "      <td>breathable and mould resistant plastic coverings</td>\n",
       "    </tr>\n",
       "    <tr>\n",
       "      <th>3434</th>\n",
       "      <td>flame-resistant wallpaper</td>\n",
       "      <td>c2505123-a5fe-495f-b5ce-693feb1304f6</td>\n",
       "      <td>en</td>\n",
       "      <td>flame-resistant wallpaper</td>\n",
       "    </tr>\n",
       "  </tbody>\n",
       "</table>\n",
       "<p>3435 rows × 4 columns</p>\n",
       "</div>"
      ],
      "text/plain": [
       "                                 products_and_services  \\\n",
       "0                                    persian blue salt   \n",
       "1                                              rossoro   \n",
       "2                                                 peas   \n",
       "3                                                 fuel   \n",
       "4                                         tomato paste   \n",
       "...                                                ...   \n",
       "3430               food supplies for catering industry   \n",
       "3431                        pleasure craft furnishings   \n",
       "3432             divans, armchairs and chairs repaired   \n",
       "3433  breathable and mould resistant plastic coverings   \n",
       "3434                         flame-resistant wallpaper   \n",
       "\n",
       "                               products_id language (ISO-code)  \\\n",
       "0     50abde66-58b7-4fb3-a007-1077fa41a010                  ca   \n",
       "1     2b898f73-e699-4b52-926d-476b51dacd42                  pt   \n",
       "2     a7849fec-bf97-48b0-b89b-cb910a8d6dc8                  ro   \n",
       "3     2a782696-0317-43ad-8f2d-0560e17acd8d                  es   \n",
       "4     e815f6fd-7684-4f67-8cd3-7ca65edc43c6                  it   \n",
       "...                                    ...                 ...   \n",
       "3430  6a296ca9-9f97-42d8-8fc6-188e575990dd                  en   \n",
       "3431  f6ed20f1-2188-4cd1-8dc6-d873bca28c4a                  en   \n",
       "3432  3f969e86-452e-41b6-8835-97436674c186                  en   \n",
       "3433  d675d682-018e-4829-ac66-e61155d7a45e                  en   \n",
       "3434  c2505123-a5fe-495f-b5ce-693feb1304f6                  en   \n",
       "\n",
       "                                        typo_corrected  \n",
       "0                                    persian blue salt  \n",
       "1                                              rossoro  \n",
       "2                                                 peas  \n",
       "3                                                 fuel  \n",
       "4                                         tomato paste  \n",
       "...                                                ...  \n",
       "3430               food supplies for watering industry  \n",
       "3431                         pleasure craft furnishing  \n",
       "3432              divan, armchairs and chairs repaired  \n",
       "3433  breathable and mould resistant plastic coverings  \n",
       "3434                         flame-resistant wallpaper  \n",
       "\n",
       "[3435 rows x 4 columns]"
      ]
     },
     "metadata": {},
     "output_type": "display_data"
    }
   ],
   "source": [
    "# Obtain the directory of the new Italy data\n",
    "italy_file_location = \"../../data/example_data/output/italy_data/italy_typo_corrected_products.csv\"\n",
    "\n",
    "# Read the data into a DataFrame\n",
    "italy_corrected_df = pd.read_csv(italy_file_location).drop(columns='Unnamed: 0')\n",
    "\n",
    "# Display the dataframe\n",
    "display(italy_corrected_df)"
   ]
  },
  {
   "cell_type": "markdown",
   "metadata": {},
   "source": [
    "## 2.3 Translate dataframe"
   ]
  },
  {
   "cell_type": "markdown",
   "metadata": {},
   "source": [
    "### Helper functions"
   ]
  },
  {
   "cell_type": "code",
   "execution_count": 9,
   "metadata": {},
   "outputs": [],
   "source": [
    "def translate_Google(text):\n",
    "    \"\"\"\n",
    "    This function translates the text into English using Google Translator\n",
    "    \"\"\"\n",
    "    try:\n",
    "        translated = translator.translate(text).text\n",
    "        return translated\n",
    "    except:\n",
    "        return np.nan"
   ]
  },
  {
   "cell_type": "markdown",
   "metadata": {},
   "source": [
    "### Google translator module"
   ]
  },
  {
   "cell_type": "code",
   "execution_count": 10,
   "metadata": {},
   "outputs": [],
   "source": [
    "def translate_df(df):\n",
    "    \"\"\"\n",
    "    This function translates the dataframe into English using Google Translator\n",
    "    \"\"\"\n",
    "    # then take subset of english texts\n",
    "    print(\"Taking subset of non-english texts...\")\n",
    "    non_english_df = df[df[\"language (ISO-code)\"] != \"en\"]\n",
    "    # exclude enlgish texts from the original df\n",
    "    df = df[df[\"language (ISO-code)\"] == \"en\"]\n",
    "\n",
    "    # apply typo correction to english texts\n",
    "    print(\"Applying translation...\")\n",
    "    non_english_df = non_english_df.copy()\n",
    "    non_english_df.loc[:, 'translated_text'] = non_english_df['typo_corrected'].progress_apply(translate_Google)\n",
    "\n",
    "    # merge the corrected english texts with the original df\n",
    "    print(\"Merging the corrected english texts with the original df...\")\n",
    "    df = pd.concat([df, non_english_df], ignore_index=True)\n",
    "    \n",
    "    # replace empty values in translated column with the typo corrected text\n",
    "    df[\"translated_text\"].fillna(df[\"typo_corrected\"], inplace=True)\n",
    "    translated_df = df.copy().drop(columns=[\"typo_corrected\", \"language (ISO-code)\", \"products_and_services\"]).rename(columns={\"translated_text\": \"products_and_services\"})\n",
    "    return translated_df"
   ]
  },
  {
   "cell_type": "markdown",
   "metadata": {},
   "source": [
    "### Base Data"
   ]
  },
  {
   "cell_type": "code",
   "execution_count": null,
   "metadata": {},
   "outputs": [],
   "source": [
    "base_translated_df = translate_df(base_corrected_df)"
   ]
  },
  {
   "cell_type": "code",
   "execution_count": null,
   "metadata": {},
   "outputs": [],
   "source": [
    "output_path_base_translated = \"../../data/example_data/output/base_data/base_translated_products.csv\"\n",
    "base_translated_df.to_csv(output_path_base_translated)"
   ]
  },
  {
   "cell_type": "markdown",
   "metadata": {},
   "source": [
    "### new Italy Data"
   ]
  },
  {
   "cell_type": "code",
   "execution_count": 13,
   "metadata": {},
   "outputs": [
    {
     "name": "stdout",
     "output_type": "stream",
     "text": [
      "Taking subset of non-english texts...\n",
      "Applying translation...\n"
     ]
    },
    {
     "name": "stderr",
     "output_type": "stream",
     "text": [
      "100%|██████████| 1503/1503 [00:41<00:00, 36.13it/s]"
     ]
    },
    {
     "name": "stdout",
     "output_type": "stream",
     "text": [
      "Merging the corrected english texts with the original df...\n"
     ]
    },
    {
     "name": "stderr",
     "output_type": "stream",
     "text": [
      "\n"
     ]
    }
   ],
   "source": [
    "italy_translated_df = translate_df(italy_corrected_df)"
   ]
  },
  {
   "cell_type": "code",
   "execution_count": 14,
   "metadata": {
    "application/vnd.databricks.v1+cell": {
     "cellMetadata": {
      "byteLimit": 2048000,
      "rowLimit": 10000
     },
     "inputWidgets": {},
     "nuid": "b858cbb2-23f9-4249-9a52-dc3d6a281d89",
     "showTitle": false,
     "title": ""
    }
   },
   "outputs": [],
   "source": [
    "output_path_italy_translated = \"../../data/example_data/output/italy_data/italy_translated_products.csv\"\n",
    "italy_translated_df.to_csv(output_path_italy_translated)"
   ]
  }
 ],
 "metadata": {
  "application/vnd.databricks.v1+notebook": {
   "dashboards": [],
   "language": "python",
   "notebookMetadata": {
    "pythonIndentUnit": 4
   },
   "notebookName": "1. Translate",
   "widgets": {}
  },
  "kernelspec": {
   "display_name": "Python 3",
   "language": "python",
   "name": "python3"
  },
  "language_info": {
   "codemirror_mode": {
    "name": "ipython",
    "version": 3
   },
   "file_extension": ".py",
   "mimetype": "text/x-python",
   "name": "python",
   "nbconvert_exporter": "python",
   "pygments_lexer": "ipython3",
   "version": "3.10.13"
  }
 },
 "nbformat": 4,
 "nbformat_minor": 0
}
