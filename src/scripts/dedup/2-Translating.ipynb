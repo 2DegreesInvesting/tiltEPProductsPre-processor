{
 "cells": [
  {
   "cell_type": "markdown",
   "metadata": {
    "application/vnd.databricks.v1+cell": {
     "cellMetadata": {
      "byteLimit": 2048000,
      "rowLimit": 10000
     },
     "inputWidgets": {},
     "nuid": "a71753e7-6deb-45c3-a226-af7cdec0e394",
     "showTitle": false,
     "title": ""
    }
   },
   "source": [
    "# 2. Translate the input products"
   ]
  },
  {
   "cell_type": "markdown",
   "metadata": {
    "application/vnd.databricks.v1+cell": {
     "cellMetadata": {
      "byteLimit": 2048000,
      "rowLimit": 10000
     },
     "inputWidgets": {},
     "nuid": "2447feb3-753a-4e72-a72e-0bf689a7cac8",
     "showTitle": false,
     "title": ""
    }
   },
   "source": [
    "## 2.1 Import the required libaries"
   ]
  },
  {
   "cell_type": "code",
   "execution_count": 12,
   "metadata": {
    "application/vnd.databricks.v1+cell": {
     "cellMetadata": {
      "byteLimit": 2048000,
      "rowLimit": 10000
     },
     "inputWidgets": {},
     "nuid": "922c33d3-4f90-4c1d-b25d-37955e860fc1",
     "showTitle": false,
     "title": ""
    }
   },
   "outputs": [],
   "source": [
    "from deep_translator import GoogleTranslator\n",
    "import pandas as pd\n",
    "import numpy as np\n",
    "from tqdm import tqdm\n",
    "tqdm.pandas()\n",
    "\n",
    "translator = GoogleTranslator(source='auto', target='en')"
   ]
  },
  {
   "cell_type": "markdown",
   "metadata": {
    "application/vnd.databricks.v1+cell": {
     "cellMetadata": {
      "byteLimit": 2048000,
      "rowLimit": 10000
     },
     "inputWidgets": {},
     "nuid": "b9cdd112-f4a3-48b5-86a4-3b092c7c31cf",
     "showTitle": false,
     "title": ""
    }
   },
   "source": [
    "## 2.2 Load in the dataset"
   ]
  },
  {
   "cell_type": "markdown",
   "metadata": {},
   "source": [
    "### Base data"
   ]
  },
  {
   "cell_type": "code",
   "execution_count": 16,
   "metadata": {
    "application/vnd.databricks.v1+cell": {
     "cellMetadata": {
      "byteLimit": 2048000,
      "rowLimit": 10000
     },
     "inputWidgets": {},
     "nuid": "8d3a5cf7-8184-4659-8799-18ac5e24cd85",
     "showTitle": false,
     "title": ""
    }
   },
   "outputs": [
    {
     "data": {
      "text/html": [
       "<div>\n",
       "<style scoped>\n",
       "    .dataframe tbody tr th:only-of-type {\n",
       "        vertical-align: middle;\n",
       "    }\n",
       "\n",
       "    .dataframe tbody tr th {\n",
       "        vertical-align: top;\n",
       "    }\n",
       "\n",
       "    .dataframe thead th {\n",
       "        text-align: right;\n",
       "    }\n",
       "</style>\n",
       "<table border=\"1\" class=\"dataframe\">\n",
       "  <thead>\n",
       "    <tr style=\"text-align: right;\">\n",
       "      <th></th>\n",
       "      <th>typo_corrected</th>\n",
       "    </tr>\n",
       "  </thead>\n",
       "  <tbody>\n",
       "    <tr>\n",
       "      <th>0</th>\n",
       "      <td>transfer in spain</td>\n",
       "    </tr>\n",
       "    <tr>\n",
       "      <th>1</th>\n",
       "      <td>coach hire france</td>\n",
       "    </tr>\n",
       "    <tr>\n",
       "      <th>2</th>\n",
       "      <td>ecological packaging</td>\n",
       "    </tr>\n",
       "    <tr>\n",
       "      <th>3</th>\n",
       "      <td>laser ablation</td>\n",
       "    </tr>\n",
       "    <tr>\n",
       "      <th>4</th>\n",
       "      <td>plastic litter bins</td>\n",
       "    </tr>\n",
       "    <tr>\n",
       "      <th>...</th>\n",
       "      <td>...</td>\n",
       "    </tr>\n",
       "    <tr>\n",
       "      <th>32058</th>\n",
       "      <td>asbestos</td>\n",
       "    </tr>\n",
       "    <tr>\n",
       "      <th>32059</th>\n",
       "      <td>fruit jelly</td>\n",
       "    </tr>\n",
       "    <tr>\n",
       "      <th>32060</th>\n",
       "      <td>precision weights for scales</td>\n",
       "    </tr>\n",
       "    <tr>\n",
       "      <th>32061</th>\n",
       "      <td>manicure scissors</td>\n",
       "    </tr>\n",
       "    <tr>\n",
       "      <th>32062</th>\n",
       "      <td>mozzarella for pizza</td>\n",
       "    </tr>\n",
       "  </tbody>\n",
       "</table>\n",
       "<p>32063 rows × 1 columns</p>\n",
       "</div>"
      ],
      "text/plain": [
       "                     typo_corrected\n",
       "0                 transfer in spain\n",
       "1                 coach hire france\n",
       "2              ecological packaging\n",
       "3                    laser ablation\n",
       "4               plastic litter bins\n",
       "...                             ...\n",
       "32058                      asbestos\n",
       "32059                   fruit jelly\n",
       "32060  precision weights for scales\n",
       "32061             manicure scissors\n",
       "32062          mozzarella for pizza\n",
       "\n",
       "[32063 rows x 1 columns]"
      ]
     },
     "metadata": {},
     "output_type": "display_data"
    }
   ],
   "source": [
    "# Obtain the file from the Azure Cloud Container\n",
    "base_file_location = \"../../data/example_data/output/base_data/base_typo_corrected_products.csv\"\n",
    "\n",
    "# Read the data into a DataFrame\n",
    "base_corrected_df = pd.read_csv(base_file_location)\n",
    "\n",
    "# Display the dataframe\n",
    "display(base_corrected_df)"
   ]
  },
  {
   "cell_type": "code",
   "execution_count": 18,
   "metadata": {},
   "outputs": [
    {
     "name": "stderr",
     "output_type": "stream",
     "text": [
      "C:\\Users\\selsabrouty\\AppData\\Local\\Temp\\ipykernel_20168\\3880205967.py:1: FutureWarning: The default value of regex will change from True to False in a future version.\n",
      "  italy_corrected_df[\"typo_corrected\"] = italy_corrected_df[\"typo_corrected\"].str.lower().str.replace(\"\\.$\", \"\")\n"
     ]
    }
   ],
   "source": [
    "base_corrected_df[\"typo_corrected\"] = base_corrected_df[\"typo_corrected\"].str.lower().str.replace(\"\\.$\", \"\")"
   ]
  },
  {
   "cell_type": "markdown",
   "metadata": {},
   "source": [
    "### new Italy data"
   ]
  },
  {
   "cell_type": "code",
   "execution_count": 20,
   "metadata": {},
   "outputs": [],
   "source": [
    "base_corrected_df.to_csv(base_file_location, index=False)"
   ]
  },
  {
   "cell_type": "code",
   "execution_count": 14,
   "metadata": {},
   "outputs": [
    {
     "data": {
      "text/html": [
       "<div>\n",
       "<style scoped>\n",
       "    .dataframe tbody tr th:only-of-type {\n",
       "        vertical-align: middle;\n",
       "    }\n",
       "\n",
       "    .dataframe tbody tr th {\n",
       "        vertical-align: top;\n",
       "    }\n",
       "\n",
       "    .dataframe thead th {\n",
       "        text-align: right;\n",
       "    }\n",
       "</style>\n",
       "<table border=\"1\" class=\"dataframe\">\n",
       "  <thead>\n",
       "    <tr style=\"text-align: right;\">\n",
       "      <th></th>\n",
       "      <th>products_and_services</th>\n",
       "      <th>products_id</th>\n",
       "      <th>to_process</th>\n",
       "      <th>language (ISO-code)</th>\n",
       "      <th>typo_corrected</th>\n",
       "    </tr>\n",
       "  </thead>\n",
       "  <tbody>\n",
       "    <tr>\n",
       "      <th>0</th>\n",
       "      <td>rossoro</td>\n",
       "      <td>2b898f73-e699-4b52-926d-476b51dacd42</td>\n",
       "      <td>True</td>\n",
       "      <td>it</td>\n",
       "      <td>rossoro</td>\n",
       "    </tr>\n",
       "    <tr>\n",
       "      <th>1</th>\n",
       "      <td>commerciante</td>\n",
       "      <td>4d813cfb-e2ac-4458-a8c4-6ed785df7d5e</td>\n",
       "      <td>True</td>\n",
       "      <td>pt</td>\n",
       "      <td>commerciante</td>\n",
       "    </tr>\n",
       "    <tr>\n",
       "      <th>2</th>\n",
       "      <td>calabrian cuisine</td>\n",
       "      <td>f8592b25-a1ed-41dd-818e-b77b17a09589</td>\n",
       "      <td>True</td>\n",
       "      <td>nl</td>\n",
       "      <td>calabrian cuisine</td>\n",
       "    </tr>\n",
       "    <tr>\n",
       "      <th>3</th>\n",
       "      <td>sell bevarage</td>\n",
       "      <td>29a6fd6c-b361-467f-b5f4-8ee75e254ba6</td>\n",
       "      <td>True</td>\n",
       "      <td>hi</td>\n",
       "      <td>sell bevarage</td>\n",
       "    </tr>\n",
       "    <tr>\n",
       "      <th>4</th>\n",
       "      <td>grossista di fiori di canapa e derivati</td>\n",
       "      <td>ab9850c2-cd93-418e-a0b7-4e7a6a664f45</td>\n",
       "      <td>True</td>\n",
       "      <td>it</td>\n",
       "      <td>grossista di fiori di canapa e derivati</td>\n",
       "    </tr>\n",
       "    <tr>\n",
       "      <th>...</th>\n",
       "      <td>...</td>\n",
       "      <td>...</td>\n",
       "      <td>...</td>\n",
       "      <td>...</td>\n",
       "      <td>...</td>\n",
       "    </tr>\n",
       "    <tr>\n",
       "      <th>3430</th>\n",
       "      <td>enamels</td>\n",
       "      <td>77890bab-e5c2-40d1-bcf7-f11fb9ac8c09</td>\n",
       "      <td>False</td>\n",
       "      <td>NaN</td>\n",
       "      <td>enamels</td>\n",
       "    </tr>\n",
       "    <tr>\n",
       "      <th>3431</th>\n",
       "      <td>breathable and mould resistant plastic coverings</td>\n",
       "      <td>d675d682-018e-4829-ac66-e61155d7a45e</td>\n",
       "      <td>False</td>\n",
       "      <td>NaN</td>\n",
       "      <td>breathable and mould resistant plastic coverings</td>\n",
       "    </tr>\n",
       "    <tr>\n",
       "      <th>3432</th>\n",
       "      <td>quartz paints</td>\n",
       "      <td>e5f78c8c-b79e-4a12-8451-867349f09cc6</td>\n",
       "      <td>False</td>\n",
       "      <td>NaN</td>\n",
       "      <td>quartz paints</td>\n",
       "    </tr>\n",
       "    <tr>\n",
       "      <th>3433</th>\n",
       "      <td>carpet</td>\n",
       "      <td>1f4814fc-759f-49b6-b2cc-9ba1c77582bd</td>\n",
       "      <td>False</td>\n",
       "      <td>NaN</td>\n",
       "      <td>carpet</td>\n",
       "    </tr>\n",
       "    <tr>\n",
       "      <th>3434</th>\n",
       "      <td>flame-resistant wallpaper</td>\n",
       "      <td>c2505123-a5fe-495f-b5ce-693feb1304f6</td>\n",
       "      <td>False</td>\n",
       "      <td>NaN</td>\n",
       "      <td>flame-resistant wallpaper</td>\n",
       "    </tr>\n",
       "  </tbody>\n",
       "</table>\n",
       "<p>3435 rows × 5 columns</p>\n",
       "</div>"
      ],
      "text/plain": [
       "                                 products_and_services  \\\n",
       "0                                              rossoro   \n",
       "1                                         commerciante   \n",
       "2                                    calabrian cuisine   \n",
       "3                                        sell bevarage   \n",
       "4              grossista di fiori di canapa e derivati   \n",
       "...                                                ...   \n",
       "3430                                           enamels   \n",
       "3431  breathable and mould resistant plastic coverings   \n",
       "3432                                     quartz paints   \n",
       "3433                                            carpet   \n",
       "3434                         flame-resistant wallpaper   \n",
       "\n",
       "                               products_id  to_process language (ISO-code)  \\\n",
       "0     2b898f73-e699-4b52-926d-476b51dacd42        True                  it   \n",
       "1     4d813cfb-e2ac-4458-a8c4-6ed785df7d5e        True                  pt   \n",
       "2     f8592b25-a1ed-41dd-818e-b77b17a09589        True                  nl   \n",
       "3     29a6fd6c-b361-467f-b5f4-8ee75e254ba6        True                  hi   \n",
       "4     ab9850c2-cd93-418e-a0b7-4e7a6a664f45        True                  it   \n",
       "...                                    ...         ...                 ...   \n",
       "3430  77890bab-e5c2-40d1-bcf7-f11fb9ac8c09       False                 NaN   \n",
       "3431  d675d682-018e-4829-ac66-e61155d7a45e       False                 NaN   \n",
       "3432  e5f78c8c-b79e-4a12-8451-867349f09cc6       False                 NaN   \n",
       "3433  1f4814fc-759f-49b6-b2cc-9ba1c77582bd       False                 NaN   \n",
       "3434  c2505123-a5fe-495f-b5ce-693feb1304f6       False                 NaN   \n",
       "\n",
       "                                        typo_corrected  \n",
       "0                                              rossoro  \n",
       "1                                         commerciante  \n",
       "2                                    calabrian cuisine  \n",
       "3                                        sell bevarage  \n",
       "4              grossista di fiori di canapa e derivati  \n",
       "...                                                ...  \n",
       "3430                                           enamels  \n",
       "3431  breathable and mould resistant plastic coverings  \n",
       "3432                                     quartz paints  \n",
       "3433                                            carpet  \n",
       "3434                         flame-resistant wallpaper  \n",
       "\n",
       "[3435 rows x 5 columns]"
      ]
     },
     "metadata": {},
     "output_type": "display_data"
    }
   ],
   "source": [
    "# Obtain the directory of the new Italy data\n",
    "italy_file_location = \"../../data/example_data/output/italy_data/italy_typo_corrected_products.csv\"\n",
    "\n",
    "# Read the data into a DataFrame\n",
    "italy_corrected_df = pd.read_csv(italy_file_location)\n",
    "\n",
    "# Display the dataframe\n",
    "display(italy_corrected_df)"
   ]
  },
  {
   "cell_type": "markdown",
   "metadata": {},
   "source": [
    "## 2.3 Translate dataframe"
   ]
  },
  {
   "cell_type": "markdown",
   "metadata": {},
   "source": [
    "### Helper functions"
   ]
  },
  {
   "cell_type": "code",
   "execution_count": 5,
   "metadata": {},
   "outputs": [],
   "source": [
    "def translate_Google(text):\n",
    "    \"\"\"\n",
    "    This function translates the text into English using Google Translator\n",
    "    \"\"\"\n",
    "    \n",
    "    try:\n",
    "        translated = translator.translate(text)\n",
    "        return translated\n",
    "    except:\n",
    "        return np.nan"
   ]
  },
  {
   "cell_type": "markdown",
   "metadata": {},
   "source": [
    "### Google translator module"
   ]
  },
  {
   "cell_type": "code",
   "execution_count": 7,
   "metadata": {},
   "outputs": [],
   "source": [
    "def translate_df(df):\n",
    "    \"\"\"\n",
    "    This function translates the dataframe into English using Google Translator\n",
    "\n",
    "    Args:\n",
    "        df (pd.DataFrame): The dataframe to be translated.\n",
    "    Returns:\n",
    "        translated_df (pd.DataFrame): The translated dataframe.\n",
    "    \"\"\"\n",
    "    # then take subset of english texts\n",
    "    print(\"Taking subset of non-english texts...\")\n",
    "    # filter out non-english texts and text that do not have a language code\n",
    "    non_english_df = df[(df[\"language (ISO-code)\"].isnull() == False) & (df[\"language (ISO-code)\"] != \"en\")]\n",
    "    # exclude the rows from non_english_df from the original df\n",
    "    df = df[~df.index.isin(non_english_df.index)]\n",
    "\n",
    "    # apply typo correction to english texts\n",
    "    print(\"Applying translation...\")\n",
    "    non_english_df = non_english_df.copy()\n",
    "    non_english_df.loc[:, 'translated_text'] = non_english_df['typo_corrected'].progress_apply(translate_Google)\n",
    "\n",
    "    # merge the corrected english texts with the original df\n",
    "    print(\"Merging the corrected english texts with the original df...\\n\")\n",
    "    df = pd.concat([df, non_english_df], ignore_index=True)\n",
    "    \n",
    "    # replace empty values in translated column with the typo corrected text\n",
    "    df[\"translated_text\"].fillna(df[\"typo_corrected\"], inplace=True)\n",
    "    translated_df = df.copy().drop(columns=[\"typo_corrected\", \"language (ISO-code)\", \"to_process\"]).rename(columns={\"products_and_services\":\"raw_products_and_services\",\"translated_text\": \"products_and_services\"})\n",
    "    return translated_df"
   ]
  },
  {
   "cell_type": "markdown",
   "metadata": {},
   "source": [
    "### Base Data"
   ]
  },
  {
   "cell_type": "code",
   "execution_count": 8,
   "metadata": {},
   "outputs": [
    {
     "name": "stdout",
     "output_type": "stream",
     "text": [
      "Taking subset of non-english texts...\n",
      "Applying translation...\n"
     ]
    },
    {
     "name": "stderr",
     "output_type": "stream",
     "text": [
      "  0%|          | 0/2856 [00:00<?, ?it/s]"
     ]
    },
    {
     "name": "stderr",
     "output_type": "stream",
     "text": [
      "100%|██████████| 2856/2856 [45:47<00:00,  1.04it/s] "
     ]
    },
    {
     "name": "stdout",
     "output_type": "stream",
     "text": [
      "Merging the corrected english texts with the original df...\n",
      "\n"
     ]
    },
    {
     "name": "stderr",
     "output_type": "stream",
     "text": [
      "\n"
     ]
    }
   ],
   "source": [
    "base_translated_df = translate_df(base_corrected_df)"
   ]
  },
  {
   "cell_type": "code",
   "execution_count": 9,
   "metadata": {},
   "outputs": [],
   "source": [
    "output_path_base_translated = \"../../data/example_data/output/base_data/base_translated_products.csv\"\n",
    "base_translated_df.to_csv(output_path_base_translated)"
   ]
  },
  {
   "cell_type": "markdown",
   "metadata": {},
   "source": [
    "### new Italy Data"
   ]
  },
  {
   "cell_type": "code",
   "execution_count": 10,
   "metadata": {},
   "outputs": [
    {
     "name": "stdout",
     "output_type": "stream",
     "text": [
      "Taking subset of non-english texts...\n",
      "Applying translation...\n"
     ]
    },
    {
     "name": "stderr",
     "output_type": "stream",
     "text": [
      "  0%|          | 0/229 [00:00<?, ?it/s]"
     ]
    },
    {
     "name": "stderr",
     "output_type": "stream",
     "text": [
      "100%|██████████| 229/229 [02:48<00:00,  1.36it/s]"
     ]
    },
    {
     "name": "stdout",
     "output_type": "stream",
     "text": [
      "Merging the corrected english texts with the original df...\n",
      "\n"
     ]
    },
    {
     "name": "stderr",
     "output_type": "stream",
     "text": [
      "\n"
     ]
    }
   ],
   "source": [
    "italy_translated_df = translate_df(italy_corrected_df)"
   ]
  },
  {
   "cell_type": "code",
   "execution_count": 11,
   "metadata": {
    "application/vnd.databricks.v1+cell": {
     "cellMetadata": {
      "byteLimit": 2048000,
      "rowLimit": 10000
     },
     "inputWidgets": {},
     "nuid": "b858cbb2-23f9-4249-9a52-dc3d6a281d89",
     "showTitle": false,
     "title": ""
    }
   },
   "outputs": [],
   "source": [
    "output_path_italy_translated = \"../../data/example_data/output/italy_data/italy_translated_products.csv\"\n",
    "italy_translated_df.to_csv(output_path_italy_translated)"
   ]
  }
 ],
 "metadata": {
  "application/vnd.databricks.v1+notebook": {
   "dashboards": [],
   "language": "python",
   "notebookMetadata": {
    "pythonIndentUnit": 4
   },
   "notebookName": "1. Translate",
   "widgets": {}
  },
  "kernelspec": {
   "display_name": "Python 3",
   "language": "python",
   "name": "python3"
  },
  "language_info": {
   "codemirror_mode": {
    "name": "ipython",
    "version": 3
   },
   "file_extension": ".py",
   "mimetype": "text/x-python",
   "name": "python",
   "nbconvert_exporter": "python",
   "pygments_lexer": "ipython3",
   "version": "3.10.13"
  }
 },
 "nbformat": 4,
 "nbformat_minor": 0
}
