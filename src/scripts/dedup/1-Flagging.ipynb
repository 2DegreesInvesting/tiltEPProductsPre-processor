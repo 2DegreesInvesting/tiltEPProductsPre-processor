{
 "cells": [
  {
   "cell_type": "markdown",
   "metadata": {},
   "source": [
    "# 0. Filtering\n",
    "Before we are going to clean up the data and apply pre-processing steps, we will first see if there are not already products and services which are already directly matching with the EP catalogue (ASSUMING THAT THE EP CATALOGUS CONTAINS CLEAN DATA). This reduces the number of records we would need to pre-process. Since we still need those records for the final output, we will flag them by adding a link to the EP catalogue."
   ]
  },
  {
   "cell_type": "markdown",
   "metadata": {},
   "source": [
    "## 0.1 Import the required libraries\n"
   ]
  },
  {
   "cell_type": "code",
   "execution_count": 11,
   "metadata": {},
   "outputs": [],
   "source": [
    "import pandas as pd\n",
    "import os "
   ]
  },
  {
   "cell_type": "markdown",
   "metadata": {},
   "source": [
    "## 0.2 Load in the raw data"
   ]
  },
  {
   "cell_type": "code",
   "execution_count": 12,
   "metadata": {},
   "outputs": [],
   "source": [
    "if 'DATABRICKS_RUNTIME_VERSION' in os.environ:\n",
    "    # Determine the location of the dataframe containing the company based products and services\n",
    "    europages_activities_catalogue_location = \"abfss://preprocessing@storagetiltdevelop.dfs.core.windows.net/data/example_data/input/scraped_data/scraped_EP_products_catalogue.csv\"\n",
    "    # Determine the location of the dataframe containing the translated text\n",
    "    base_tilt_data_location = \"abfss://preprocessing@storagetiltdevelop.dfs.core.windows.net/data/example_data/input/tilt_base_products_and_services_unprocessed.csv\"\n",
    "    # Determine the location of the dataframe containing the translated text\n",
    "    italy_tilt_data_location = \"abfss://preprocessing@storagetiltdevelop.dfs.core.windows.net/data/example_data/input/tilt_italy_products_and_services_unprocessed.csv\"\n",
    "    \n",
    "    # Read the dataframe\n",
    "    europages_activities_catalogue = spark.read.option(\"header\",True).csv(europages_activities_catalogue_location).toPandas()\n",
    "    # use raw_df\n",
    "    base_tilt_data = spark.read.option(\"header\",True).csv(base_tilt_data_location).toPandas()\n",
    "    # use raw_df\n",
    "    italy_tilt_data = spark.read.option(\"header\",True).csv(italy_tilt_data_location).toPandas()\n",
    "\n",
    "else:\n",
    "    # Determine the location of the dataframe EuroPages catalogue\n",
    "    europages_activities_catalogue_location = \"../../data/example_data/input/scraped_data/scraped_EP_products_catalogue.csv\"\n",
    "    # Determine the location of the dataframe containing unprocessed products and services\n",
    "    base_tilt_data_location = \"../../data/example_data/input/tilt_base_products_and_services_unprocessed.csv\"\n",
    "    # Determine the location of the dataframe containing the unprocessed products and services\n",
    "    italy_tilt_data_location = \"../../data/example_data/input/tilt_italy_products_and_services_unprocessed.csv\"\n",
    "    \n",
    "    # Read the dataframe\n",
    "    europages_activities_catalogue  = pd.read_csv(europages_activities_catalogue_location)\n",
    "    # Read the base_data\n",
    "    base_tilt_data = pd.read_csv(base_tilt_data_location)\n",
    "    # Read the italy data\n",
    "    italy_tilt_data = pd.read_csv(italy_tilt_data_location)"
   ]
  },
  {
   "cell_type": "markdown",
   "metadata": {},
   "source": [
    "## 0.3 Filtering"
   ]
  },
  {
   "cell_type": "code",
   "execution_count": 13,
   "metadata": {},
   "outputs": [],
   "source": [
    "def exclude_covered_records(df_1, df_2):\n",
    "    # Merge the two dataframes based on the 'products_and_services' column\n",
    "    merged_df = df_1.merge(df_2, on='products_and_services', how='inner')\n",
    "\n",
    "    # Remove ID column and rename products_id_y to linke_EP_products_id\n",
    "    merged_df = merged_df.drop(['ID', 'products_id_y'], axis=1)\n",
    "    merged_df = merged_df.rename(columns={'products_id_x': 'products_id'})\n",
    "    \n",
    "    # add column called to_process which labels the records that need to be processed\n",
    "    merged_df['to_process'] = False\n",
    "    \n",
    "\n",
    "    # concatentate the merged_df with the records in df_1 that arent in merged_df based of products_id\n",
    "    df_1 = df_1[~df_1['products_id'].isin(merged_df['products_id'])]\n",
    "    merged_df = pd.concat([merged_df, df_1], ignore_index=True)\t\n",
    "    # replace the NaN values in the to_process column with \"yes\"\n",
    "    merged_df['to_process'] = merged_df['to_process'].fillna(True)\n",
    "\n",
    "    return merged_df"
   ]
  },
  {
   "cell_type": "markdown",
   "metadata": {},
   "source": [
    "### Base Data"
   ]
  },
  {
   "cell_type": "code",
   "execution_count": 14,
   "metadata": {},
   "outputs": [],
   "source": [
    "filtered_base_data = exclude_covered_records(base_tilt_data, europages_activities_catalogue)"
   ]
  },
  {
   "cell_type": "markdown",
   "metadata": {},
   "source": [
    "### tilt Italy Data"
   ]
  },
  {
   "cell_type": "code",
   "execution_count": 15,
   "metadata": {},
   "outputs": [],
   "source": [
    "filtered_italy_data = exclude_covered_records(italy_tilt_data, europages_activities_catalogue)"
   ]
  },
  {
   "cell_type": "markdown",
   "metadata": {},
   "source": [
    "## 0.4 Export the filtered dataframe"
   ]
  },
  {
   "cell_type": "code",
   "execution_count": 16,
   "metadata": {},
   "outputs": [],
   "source": [
    "if 'DATABRICKS_RUNTIME_VERSION' in os.environ:\n",
    "    # Define the path for the new dataframe\n",
    "    output_filtered_base_data = \"abfss://preprocessing@storagetiltdevelop.dfs.core.windows.net/data/example_data/output/base_data/base_flagged_products.csv\"\n",
    "    # Convert the pandas dataframe to a spark sql dataframe\n",
    "    filtered_base_data_spark = spark.createDataFrame(filtered_base_data)\n",
    "    # Write the new dataframe to the path\n",
    "    filtered_base_data_spark.write.csv(output_filtered_base_data, mode=\"overwrite\", header=True)\n",
    "\n",
    "    # Define the path for the new dataframe\n",
    "    output_filtered_italy_data = \"abfss://preprocessing@storagetiltdevelop.dfs.core.windows.net/data/example_data/output/italy_data/italy_flagged_products.csv\"\n",
    "    # Convert the pandas dataframe to a spark sql dataframe\n",
    "    filtered_italy_data_spark = spark.createDataFrame(filtered_italy_data)\n",
    "    # Write the new dataframe to the path\n",
    "    filtered_italy_data_spark.write.csv(output_filtered_italy_data, mode=\"overwrite\", header=True)\n",
    "else:\n",
    "    # Define the path for the new dataframe\n",
    "    output_filtered_base_data = \"../../data/example_data/output/base_data/base_flagged_products.csv\"\n",
    "    # Define the path for the new dataframe\n",
    "    output_filtered_italy_data = \"../../data/example_data/output/italy_data/italy_flagged_products.csv\"\n",
    "\n",
    "    # Write the new dataframe to the path\n",
    "    filtered_base_data.to_csv(output_filtered_base_data,index = False)\n",
    "    # Write the new dataframe to the path\n",
    "    filtered_italy_data.to_csv(output_filtered_italy_data,index = False)"
   ]
  }
 ],
 "metadata": {
  "kernelspec": {
   "display_name": "Python 3",
   "language": "python",
   "name": "python3"
  },
  "language_info": {
   "codemirror_mode": {
    "name": "ipython",
    "version": 3
   },
   "file_extension": ".py",
   "mimetype": "text/x-python",
   "name": "python",
   "nbconvert_exporter": "python",
   "pygments_lexer": "ipython3",
   "version": "3.10.13"
  }
 },
 "nbformat": 4,
 "nbformat_minor": 2
}
