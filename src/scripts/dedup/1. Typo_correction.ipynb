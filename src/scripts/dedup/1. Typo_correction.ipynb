{
 "cells": [
  {
   "cell_type": "markdown",
   "metadata": {
    "application/vnd.databricks.v1+cell": {
     "cellMetadata": {},
     "inputWidgets": {},
     "nuid": "5ee8ce93-0fe4-4a1b-ac06-f903e54430bc",
     "showTitle": false,
     "title": ""
    }
   },
   "source": [
    "# 1. Typo correction\n"
   ]
  },
  {
   "cell_type": "markdown",
   "metadata": {
    "application/vnd.databricks.v1+cell": {
     "cellMetadata": {},
     "inputWidgets": {},
     "nuid": "abb4f705-b911-413b-a295-e17013c23f47",
     "showTitle": false,
     "title": ""
    }
   },
   "source": [
    "## 1.1 Import the required libraries\n"
   ]
  },
  {
   "cell_type": "code",
   "execution_count": 1,
   "metadata": {
    "application/vnd.databricks.v1+cell": {
     "cellMetadata": {
      "byteLimit": 2048000,
      "rowLimit": 10000
     },
     "inputWidgets": {},
     "nuid": "922c33d3-4f90-4c1d-b25d-37955e860fc1",
     "showTitle": false,
     "title": ""
    }
   },
   "outputs": [
    {
     "name": "stdout",
     "output_type": "stream",
     "text": [
      "WARNING:tensorflow:From c:\\Users\\selsabrouty\\AppData\\Local\\anaconda3\\envs\\new-tilt-nlp-preprocessing\\lib\\site-packages\\keras\\src\\losses.py:2976: The name tf.losses.sparse_softmax_cross_entropy is deprecated. Please use tf.compat.v1.losses.sparse_softmax_cross_entropy instead.\n",
      "\n"
     ]
    }
   ],
   "source": [
    "from transformers import pipeline\n",
    "from langdetect import detect_langs, DetectorFactory\n",
    "from textblob import TextBlob\n",
    "import pandas as pd\n",
    "import spacy\n",
    "from tqdm import tqdm\n",
    "tqdm.pandas()\n",
    "\n",
    "nlp = spacy.load('en_core_web_sm') \n",
    "language_detector = pipeline(\"text-classification\", model=\"papluca/xlm-roberta-base-language-detection\") # this model is 1.1 gigabyte so it will take around 5 mins to download it\n",
    "\n",
    "DetectorFactory.seed = 0"
   ]
  },
  {
   "cell_type": "markdown",
   "metadata": {
    "application/vnd.databricks.v1+cell": {
     "cellMetadata": {},
     "inputWidgets": {},
     "nuid": "acfe9e88-a5c1-46f1-934e-f3075018fc49",
     "showTitle": false,
     "title": ""
    }
   },
   "source": [
    "## 1.2 Load in the raw data"
   ]
  },
  {
   "cell_type": "markdown",
   "metadata": {},
   "source": [
    "### Base Data"
   ]
  },
  {
   "cell_type": "code",
   "execution_count": null,
   "metadata": {
    "application/vnd.databricks.v1+cell": {
     "cellMetadata": {
      "byteLimit": 2048000,
      "rowLimit": 10000
     },
     "inputWidgets": {},
     "nuid": "8d3a5cf7-8184-4659-8799-18ac5e24cd85",
     "showTitle": false,
     "title": ""
    }
   },
   "outputs": [
    {
     "data": {
      "text/html": [
       "<div>\n",
       "<style scoped>\n",
       "    .dataframe tbody tr th:only-of-type {\n",
       "        vertical-align: middle;\n",
       "    }\n",
       "\n",
       "    .dataframe tbody tr th {\n",
       "        vertical-align: top;\n",
       "    }\n",
       "\n",
       "    .dataframe thead th {\n",
       "        text-align: right;\n",
       "    }\n",
       "</style>\n",
       "<table border=\"1\" class=\"dataframe\">\n",
       "  <thead>\n",
       "    <tr style=\"text-align: right;\">\n",
       "      <th></th>\n",
       "      <th>products_id</th>\n",
       "      <th>products_and_services</th>\n",
       "    </tr>\n",
       "  </thead>\n",
       "  <tbody>\n",
       "    <tr>\n",
       "      <th>0</th>\n",
       "      <td>164399edbf8e880dc2e856f50d51e720bd0a8abe</td>\n",
       "      <td>fish, frozen and deep-frozen</td>\n",
       "    </tr>\n",
       "    <tr>\n",
       "      <th>1</th>\n",
       "      <td>b0d3c55743b1b858ec2843c8870116bb8af543fd</td>\n",
       "      <td>drilling and test boring - equipment</td>\n",
       "    </tr>\n",
       "    <tr>\n",
       "      <th>2</th>\n",
       "      <td>b14c038972e6a52bfbf3ffbe77def57a62c5b9cf</td>\n",
       "      <td>well-management services</td>\n",
       "    </tr>\n",
       "    <tr>\n",
       "      <th>3</th>\n",
       "      <td>abadc2542b4b5c1ecfe41c22afb2347b1d9b65af</td>\n",
       "      <td>electronic data processing - software</td>\n",
       "    </tr>\n",
       "    <tr>\n",
       "      <th>4</th>\n",
       "      <td>60c58ad2ef34d96fae028f1039fab03dec9eb9a2</td>\n",
       "      <td>communication</td>\n",
       "    </tr>\n",
       "    <tr>\n",
       "      <th>...</th>\n",
       "      <td>...</td>\n",
       "      <td>...</td>\n",
       "    </tr>\n",
       "    <tr>\n",
       "      <th>32058</th>\n",
       "      <td>a56bfdd9971ddba76de33e5dd394faab63d2c58c</td>\n",
       "      <td>trading in non-ferrous products</td>\n",
       "    </tr>\n",
       "    <tr>\n",
       "      <th>32059</th>\n",
       "      <td>d16685f9db86a7e446d5a4c763a17016ffdfa613</td>\n",
       "      <td>precision weights for scales</td>\n",
       "    </tr>\n",
       "    <tr>\n",
       "      <th>32060</th>\n",
       "      <td>37c8e6d302d907a76f49d45a91949c86dd5fcc03</td>\n",
       "      <td>weights and masses - measurement and verificat...</td>\n",
       "    </tr>\n",
       "    <tr>\n",
       "      <th>32061</th>\n",
       "      <td>4aa756effa61af41058cf80f475a03b439232cfe</td>\n",
       "      <td>manicure scissors</td>\n",
       "    </tr>\n",
       "    <tr>\n",
       "      <th>32062</th>\n",
       "      <td>c732592a40981d7bd20a41585672204b41f93b12</td>\n",
       "      <td>mozzarella for pizza</td>\n",
       "    </tr>\n",
       "  </tbody>\n",
       "</table>\n",
       "<p>32063 rows × 2 columns</p>\n",
       "</div>"
      ],
      "text/plain": [
       "                                    products_id  \\\n",
       "0      164399edbf8e880dc2e856f50d51e720bd0a8abe   \n",
       "1      b0d3c55743b1b858ec2843c8870116bb8af543fd   \n",
       "2      b14c038972e6a52bfbf3ffbe77def57a62c5b9cf   \n",
       "3      abadc2542b4b5c1ecfe41c22afb2347b1d9b65af   \n",
       "4      60c58ad2ef34d96fae028f1039fab03dec9eb9a2   \n",
       "...                                         ...   \n",
       "32058  a56bfdd9971ddba76de33e5dd394faab63d2c58c   \n",
       "32059  d16685f9db86a7e446d5a4c763a17016ffdfa613   \n",
       "32060  37c8e6d302d907a76f49d45a91949c86dd5fcc03   \n",
       "32061  4aa756effa61af41058cf80f475a03b439232cfe   \n",
       "32062  c732592a40981d7bd20a41585672204b41f93b12   \n",
       "\n",
       "                                   products_and_services  \n",
       "0                           fish, frozen and deep-frozen  \n",
       "1                   drilling and test boring - equipment  \n",
       "2                               well-management services  \n",
       "3                  electronic data processing - software  \n",
       "4                                          communication  \n",
       "...                                                  ...  \n",
       "32058                    trading in non-ferrous products  \n",
       "32059                       precision weights for scales  \n",
       "32060  weights and masses - measurement and verificat...  \n",
       "32061                                  manicure scissors  \n",
       "32062                               mozzarella for pizza  \n",
       "\n",
       "[32063 rows x 2 columns]"
      ]
     },
     "metadata": {},
     "output_type": "display_data"
    }
   ],
   "source": [
    "# Determine the location of the dataframe containing the translated text\n",
    "base_tilt_data_location = \"../../data/example_data/input/products_and_services_unprocessed.csv\"\n",
    "\n",
    "# use raw_df\n",
    "base_tilt_data = pd.read_csv(base_tilt_data_location)\n",
    "\n",
    "# Display the dataframe\n",
    "display(base_tilt_data)"
   ]
  },
  {
   "cell_type": "markdown",
   "metadata": {},
   "source": [
    "### tilt Italy Data"
   ]
  },
  {
   "cell_type": "code",
   "execution_count": 2,
   "metadata": {},
   "outputs": [
    {
     "data": {
      "text/html": [
       "<div>\n",
       "<style scoped>\n",
       "    .dataframe tbody tr th:only-of-type {\n",
       "        vertical-align: middle;\n",
       "    }\n",
       "\n",
       "    .dataframe tbody tr th {\n",
       "        vertical-align: top;\n",
       "    }\n",
       "\n",
       "    .dataframe thead th {\n",
       "        text-align: right;\n",
       "    }\n",
       "</style>\n",
       "<table border=\"1\" class=\"dataframe\">\n",
       "  <thead>\n",
       "    <tr style=\"text-align: right;\">\n",
       "      <th></th>\n",
       "      <th>products_and_services</th>\n",
       "      <th>products_id</th>\n",
       "    </tr>\n",
       "  </thead>\n",
       "  <tbody>\n",
       "    <tr>\n",
       "      <th>0</th>\n",
       "      <td>organic farming</td>\n",
       "      <td>996c2256-502c-4821-bd87-b822405a10eb</td>\n",
       "    </tr>\n",
       "    <tr>\n",
       "      <th>1</th>\n",
       "      <td>crop services</td>\n",
       "      <td>c35b0904-4747-4038-a0c7-d391af1f944e</td>\n",
       "    </tr>\n",
       "    <tr>\n",
       "      <th>2</th>\n",
       "      <td>agriculture - machines &amp; equipment</td>\n",
       "      <td>941c038a-3547-4985-835d-6c82a56090f8</td>\n",
       "    </tr>\n",
       "    <tr>\n",
       "      <th>3</th>\n",
       "      <td>agricultural systems and equipment</td>\n",
       "      <td>98d6e96c-3d4f-4d33-940e-3444d9f725c8</td>\n",
       "    </tr>\n",
       "    <tr>\n",
       "      <th>4</th>\n",
       "      <td>organic fertilizers</td>\n",
       "      <td>546529b7-9e7b-4b9e-92d7-0c532ef6260f</td>\n",
       "    </tr>\n",
       "    <tr>\n",
       "      <th>...</th>\n",
       "      <td>...</td>\n",
       "      <td>...</td>\n",
       "    </tr>\n",
       "    <tr>\n",
       "      <th>14572</th>\n",
       "      <td>decorative paints</td>\n",
       "      <td>d87ded84-6b5d-4ef1-9cd0-5b1f4ea26910</td>\n",
       "    </tr>\n",
       "    <tr>\n",
       "      <th>14573</th>\n",
       "      <td>wall-coverings, fabric</td>\n",
       "      <td>9c4c22f5-6c84-402e-91d3-b317896e8650</td>\n",
       "    </tr>\n",
       "    <tr>\n",
       "      <th>14574</th>\n",
       "      <td>wall-coverings, fabric</td>\n",
       "      <td>a3664d9f-c777-4193-8707-417b633d9a4e</td>\n",
       "    </tr>\n",
       "    <tr>\n",
       "      <th>14575</th>\n",
       "      <td>carpet</td>\n",
       "      <td>f78e7f1a-8fe1-4346-b487-a54d9fa94a38</td>\n",
       "    </tr>\n",
       "    <tr>\n",
       "      <th>14576</th>\n",
       "      <td>flame-resistant wallpaper</td>\n",
       "      <td>4f532653-e539-425f-ad9b-35f79d9e02c9</td>\n",
       "    </tr>\n",
       "  </tbody>\n",
       "</table>\n",
       "<p>14577 rows × 2 columns</p>\n",
       "</div>"
      ],
      "text/plain": [
       "                      products_and_services  \\\n",
       "0                          organic farming    \n",
       "1                            crop services    \n",
       "2       agriculture - machines & equipment    \n",
       "3       agricultural systems and equipment    \n",
       "4                      organic fertilizers    \n",
       "...                                     ...   \n",
       "14572                    decorative paints    \n",
       "14573                wall-coverings, fabric   \n",
       "14574               wall-coverings, fabric    \n",
       "14575                               carpet    \n",
       "14576             flame-resistant wallpaper   \n",
       "\n",
       "                                products_id  \n",
       "0      996c2256-502c-4821-bd87-b822405a10eb  \n",
       "1      c35b0904-4747-4038-a0c7-d391af1f944e  \n",
       "2      941c038a-3547-4985-835d-6c82a56090f8  \n",
       "3      98d6e96c-3d4f-4d33-940e-3444d9f725c8  \n",
       "4      546529b7-9e7b-4b9e-92d7-0c532ef6260f  \n",
       "...                                     ...  \n",
       "14572  d87ded84-6b5d-4ef1-9cd0-5b1f4ea26910  \n",
       "14573  9c4c22f5-6c84-402e-91d3-b317896e8650  \n",
       "14574  a3664d9f-c777-4193-8707-417b633d9a4e  \n",
       "14575  f78e7f1a-8fe1-4346-b487-a54d9fa94a38  \n",
       "14576  4f532653-e539-425f-ad9b-35f79d9e02c9  \n",
       "\n",
       "[14577 rows x 2 columns]"
      ]
     },
     "metadata": {},
     "output_type": "display_data"
    }
   ],
   "source": [
    "# Determine the location of the dataframe containing the translated text\n",
    "italy_tilt_data_location = \"../../data/example_data/input/tilt_italy_products_and_services_unprocessed.csv\"\n",
    "\n",
    "# use raw_df\n",
    "italy_tilt_data = pd.read_csv(italy_tilt_data_location)\n",
    "\n",
    "# Display the dataframe\n",
    "display(italy_tilt_data)"
   ]
  },
  {
   "cell_type": "markdown",
   "metadata": {},
   "source": [
    "## 1.3 Apply typo correction module"
   ]
  },
  {
   "cell_type": "markdown",
   "metadata": {},
   "source": [
    "### Helper functions"
   ]
  },
  {
   "cell_type": "code",
   "execution_count": 4,
   "metadata": {},
   "outputs": [],
   "source": [
    "def conf_ld_detect_language(text, model=\"def\"):\n",
    "    \"\"\"Language detection wrapper.\n",
    "    \n",
    "    Returns detected language (ISO-code) and confidence of detection. In case of \n",
    "    failure of detection string 'ident_fail' and a pd.NA value for confidence is \n",
    "    returned.\n",
    "    \n",
    "    Args:\n",
    "        text (str): The string for which language shall be detected.\n",
    "        model (str): The model to be used for language detection. Defaults to langdetect model.\n",
    "    Returns:\n",
    "        str: The detected language (ISO-code).\n",
    "    \"\"\"\n",
    "    try:\n",
    "        if model == \"def\":\n",
    "            highest_conf = detect_langs(text)[0]\n",
    "            return highest_conf.lang\n",
    "        else:\n",
    "            result = language_detector(text)[0]\n",
    "            return str(result[\"label\"])\n",
    "    except:   \n",
    "        return \"ident_fail\", pd.NA"
   ]
  },
  {
   "cell_type": "code",
   "execution_count": 5,
   "metadata": {},
   "outputs": [],
   "source": [
    "def typo_correction(text=\"\"):\n",
    "    \"\"\"Typo correction wrapper.\n",
    "    \n",
    "    Returns corrected text. In case of failure of correction the original text \n",
    "    is returned. \n",
    "    \n",
    "    Args:\n",
    "        text (str): The string to be corrected.\n",
    "    Returns:\n",
    "        str: The corrected string.\n",
    "    \"\"\"\n",
    "    try:\n",
    "        # contextualspellcheck only works for english. the same applies to textblob and the huggingface pipeline. pyspellcheck does work with different languages but requires single words as input. (aka splitted)\n",
    "        return(TextBlob(text).correct().string)\n",
    "    except:\n",
    "        return text"
   ]
  },
  {
   "cell_type": "markdown",
   "metadata": {},
   "source": [
    "### Typo correction module"
   ]
  },
  {
   "cell_type": "code",
   "execution_count": 6,
   "metadata": {},
   "outputs": [],
   "source": [
    "def typo_correct_df(df):\n",
    "    \"\"\"Typo correction wrapper for dataframes.\n",
    "    \n",
    "    Returns dataframe with corrected text. In case of failure of correction the \n",
    "    original text is returned. \n",
    "    \n",
    "    Args:\n",
    "        df (pd.DataFrame): The dataframe containing the text to be corrected.\n",
    "    Returns:\n",
    "        pd.DataFrame: The dataframe with corrected text.\n",
    "    \"\"\"\n",
    "    #df['ID'] = range(1, len(df) + 1)\n",
    "    # detect the language of the text\n",
    "    print(\"Detecting the languae of the text...\")\n",
    "    df.loc[:, \"language (ISO-code)\"] = df[\"products_and_services\"].progress_apply(lambda x: conf_ld_detect_language(x))\n",
    "\n",
    "    # then take subset of english texts\n",
    "    print(\"Taking subset of english texts...\")\n",
    "    english_df = df[df[\"language (ISO-code)\"] == \"en\"]\n",
    "    # exclude enlgish texts from the original df\n",
    "    df = df[df[\"language (ISO-code)\"] != \"en\"]\n",
    "\n",
    "    # apply typo correction to english texts\n",
    "    print(\"Applying typo correction...\")\n",
    "    english_df.loc[:, \"typo_corrected\"] = english_df[\"products_and_services\"].progress_apply(lambda x: typo_correction(x))\n",
    "\n",
    "    # merge the corrected english texts with the original df\n",
    "    print(\"Merging the corrected english texts with the original df...\")\n",
    "    df = pd.concat([df, english_df], ignore_index=True)\n",
    "    # replace empty values in typo_corrected with the original text\n",
    "    df[\"typo_corrected\"].fillna(df[\"products_and_services\"], inplace=True)\n",
    "    corrected_df = df.copy()\n",
    "    return corrected_df"
   ]
  },
  {
   "cell_type": "markdown",
   "metadata": {},
   "source": [
    "### Base Data"
   ]
  },
  {
   "cell_type": "code",
   "execution_count": 7,
   "metadata": {},
   "outputs": [
    {
     "ename": "NameError",
     "evalue": "name 'base_tilt_data' is not defined",
     "output_type": "error",
     "traceback": [
      "\u001b[1;31m---------------------------------------------------------------------------\u001b[0m",
      "\u001b[1;31mNameError\u001b[0m                                 Traceback (most recent call last)",
      "Cell \u001b[1;32mIn[7], line 1\u001b[0m\n\u001b[1;32m----> 1\u001b[0m base_typo_corrected_df \u001b[38;5;241m=\u001b[39m typo_correct_df(\u001b[43mbase_tilt_data\u001b[49m)\n",
      "\u001b[1;31mNameError\u001b[0m: name 'base_tilt_data' is not defined"
     ]
    }
   ],
   "source": [
    "base_typo_corrected_df = typo_correct_df(base_tilt_data)"
   ]
  },
  {
   "cell_type": "markdown",
   "metadata": {},
   "source": [
    "### tilt Italy Data"
   ]
  },
  {
   "cell_type": "code",
   "execution_count": 8,
   "metadata": {},
   "outputs": [
    {
     "name": "stdout",
     "output_type": "stream",
     "text": [
      "Detecting the languae of the text...\n"
     ]
    },
    {
     "name": "stderr",
     "output_type": "stream",
     "text": [
      "100%|██████████| 14577/14577 [04:17<00:00, 56.61it/s]\n"
     ]
    },
    {
     "name": "stdout",
     "output_type": "stream",
     "text": [
      "Taking subset of english texts...\n",
      "Applying typo correction...\n"
     ]
    },
    {
     "name": "stderr",
     "output_type": "stream",
     "text": [
      "100%|██████████| 8725/8725 [22:37<00:00,  6.43it/s] "
     ]
    },
    {
     "name": "stdout",
     "output_type": "stream",
     "text": [
      "Merging the corrected english texts with the original df...\n"
     ]
    },
    {
     "name": "stderr",
     "output_type": "stream",
     "text": [
      "\n",
      "C:\\Users\\selsabrouty\\AppData\\Local\\Temp\\ipykernel_10400\\2452479158.py:25: SettingWithCopyWarning: \n",
      "A value is trying to be set on a copy of a slice from a DataFrame.\n",
      "Try using .loc[row_indexer,col_indexer] = value instead\n",
      "\n",
      "See the caveats in the documentation: https://pandas.pydata.org/pandas-docs/stable/user_guide/indexing.html#returning-a-view-versus-a-copy\n",
      "  english_df[\"typo_corrected\"] = english_df[\"products_and_services\"].progress_apply(lambda x: typo_correction(x))\n"
     ]
    }
   ],
   "source": [
    "italy_typo_corrected_df = typo_correct_df(italy_tilt_data)"
   ]
  },
  {
   "cell_type": "markdown",
   "metadata": {
    "application/vnd.databricks.v1+cell": {
     "cellMetadata": {},
     "inputWidgets": {},
     "nuid": "fdc5767d-ddf9-4d7b-95e5-acf9a0100269",
     "showTitle": false,
     "title": ""
    }
   },
   "source": [
    "## 1.4 Export the dataframe with the corrected text "
   ]
  },
  {
   "cell_type": "markdown",
   "metadata": {},
   "source": [
    "### Base Data"
   ]
  },
  {
   "cell_type": "code",
   "execution_count": null,
   "metadata": {},
   "outputs": [],
   "source": []
  },
  {
   "cell_type": "markdown",
   "metadata": {},
   "source": [
    "### tilt Italy Data"
   ]
  },
  {
   "cell_type": "code",
   "execution_count": 9,
   "metadata": {
    "application/vnd.databricks.v1+cell": {
     "cellMetadata": {
      "byteLimit": 2048000,
      "rowLimit": 10000
     },
     "inputWidgets": {},
     "nuid": "1747a005-9c90-4934-8605-4b41d424916c",
     "showTitle": false,
     "title": ""
    }
   },
   "outputs": [],
   "source": [
    "# Define the path for the new dataframe\n",
    "output_path_italy_typo_corrected = \"../../data/example_data/output/italy_data/italy_typo_corrected_products.csv\"\n",
    "\n",
    "# Write the new dataframe to the path\n",
    "italy_typo_corrected_df.to_csv(output_path_italy_typo_corrected)"
   ]
  }
 ],
 "metadata": {
  "application/vnd.databricks.v1+notebook": {
   "dashboards": [],
   "language": "python",
   "notebookMetadata": {
    "pythonIndentUnit": 4
   },
   "notebookName": "2. Typo_correction (Python solution)",
   "widgets": {}
  },
  "kernelspec": {
   "display_name": ".venv",
   "language": "python",
   "name": "python3"
  },
  "language_info": {
   "codemirror_mode": {
    "name": "ipython",
    "version": 3
   },
   "file_extension": ".py",
   "mimetype": "text/x-python",
   "name": "python",
   "nbconvert_exporter": "python",
   "pygments_lexer": "ipython3",
   "version": "3.10.13"
  }
 },
 "nbformat": 4,
 "nbformat_minor": 0
}
