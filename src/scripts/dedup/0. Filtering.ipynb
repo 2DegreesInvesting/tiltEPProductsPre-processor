{
 "cells": [
  {
   "cell_type": "markdown",
   "metadata": {},
   "source": [
    "# 0. Filtering\n",
    "Before we are going to clean up the data and apply pre-processing steps, we will first see if there are not already products and services which are already directly matching with the EP catalogue (ASSUMING THAT THE EP CATALOGUS CONTAINS CLEAN DATA). This reduces the number of records we would need to pre-process. Since we still need those records for the final output, we will flag them by adding a link to the EP catalogue."
   ]
  },
  {
   "cell_type": "markdown",
   "metadata": {},
   "source": [
    "## 0.1 Import the required libraries\n"
   ]
  },
  {
   "cell_type": "code",
   "execution_count": 10,
   "metadata": {},
   "outputs": [],
   "source": [
    "import pandas as pd"
   ]
  },
  {
   "cell_type": "markdown",
   "metadata": {},
   "source": [
    "## 0.2 Load in the raw data"
   ]
  },
  {
   "cell_type": "markdown",
   "metadata": {},
   "source": [
    "### EuroPages Catalogue"
   ]
  },
  {
   "cell_type": "code",
   "execution_count": 11,
   "metadata": {},
   "outputs": [
    {
     "data": {
      "text/html": [
       "<div>\n",
       "<style scoped>\n",
       "    .dataframe tbody tr th:only-of-type {\n",
       "        vertical-align: middle;\n",
       "    }\n",
       "\n",
       "    .dataframe tbody tr th {\n",
       "        vertical-align: top;\n",
       "    }\n",
       "\n",
       "    .dataframe thead th {\n",
       "        text-align: right;\n",
       "    }\n",
       "</style>\n",
       "<table border=\"1\" class=\"dataframe\">\n",
       "  <thead>\n",
       "    <tr style=\"text-align: right;\">\n",
       "      <th></th>\n",
       "      <th>products_and_services</th>\n",
       "      <th>products_id</th>\n",
       "      <th>ID</th>\n",
       "    </tr>\n",
       "  </thead>\n",
       "  <tbody>\n",
       "    <tr>\n",
       "      <th>0</th>\n",
       "      <td>a0 size photocopy</td>\n",
       "      <td>d767925b2b31998720be47150c317b8b</td>\n",
       "      <td>1</td>\n",
       "    </tr>\n",
       "    <tr>\n",
       "      <th>1</th>\n",
       "      <td>a4 self-adhesive sheets</td>\n",
       "      <td>8b14539d24b4e721f7b0a2f4355e2698</td>\n",
       "      <td>2</td>\n",
       "    </tr>\n",
       "    <tr>\n",
       "      <th>2</th>\n",
       "      <td>abamectin</td>\n",
       "      <td>3f9bdd95cac6914274f80462954d0c04</td>\n",
       "      <td>3</td>\n",
       "    </tr>\n",
       "    <tr>\n",
       "      <th>3</th>\n",
       "      <td>abattoir with agreed store</td>\n",
       "      <td>e4ddbcf93fb7a754239358b82e0892de</td>\n",
       "      <td>4</td>\n",
       "    </tr>\n",
       "    <tr>\n",
       "      <th>4</th>\n",
       "      <td>abattoirs</td>\n",
       "      <td>0c43e8a2b18ffba9573fd91343865dca</td>\n",
       "      <td>5</td>\n",
       "    </tr>\n",
       "    <tr>\n",
       "      <th>...</th>\n",
       "      <td>...</td>\n",
       "      <td>...</td>\n",
       "      <td>...</td>\n",
       "    </tr>\n",
       "    <tr>\n",
       "      <th>42449</th>\n",
       "      <td>zootechnical feed</td>\n",
       "      <td>31038b5276adc87194b0f647ae36abf8</td>\n",
       "      <td>42450</td>\n",
       "    </tr>\n",
       "    <tr>\n",
       "      <th>42450</th>\n",
       "      <td>zootechnical foods</td>\n",
       "      <td>5306a7f02167e79365c7626ac48b4ff5</td>\n",
       "      <td>42451</td>\n",
       "    </tr>\n",
       "    <tr>\n",
       "      <th>42451</th>\n",
       "      <td>zootechnical integrators</td>\n",
       "      <td>62f4c57406cd9fb1190b67ea25cb48ce</td>\n",
       "      <td>42452</td>\n",
       "    </tr>\n",
       "    <tr>\n",
       "      <th>42452</th>\n",
       "      <td>zootechnics - equipment</td>\n",
       "      <td>3d86fe5ed83d4c4fe2304a311967a39e</td>\n",
       "      <td>42453</td>\n",
       "    </tr>\n",
       "    <tr>\n",
       "      <th>42453</th>\n",
       "      <td>zootechnics - laboratories</td>\n",
       "      <td>b2023be31fd90aacca2be78570178d8d</td>\n",
       "      <td>42454</td>\n",
       "    </tr>\n",
       "  </tbody>\n",
       "</table>\n",
       "<p>42454 rows × 3 columns</p>\n",
       "</div>"
      ],
      "text/plain": [
       "            products_and_services                       products_id     ID\n",
       "0               a0 size photocopy  d767925b2b31998720be47150c317b8b      1\n",
       "1         a4 self-adhesive sheets  8b14539d24b4e721f7b0a2f4355e2698      2\n",
       "2                       abamectin  3f9bdd95cac6914274f80462954d0c04      3\n",
       "3      abattoir with agreed store  e4ddbcf93fb7a754239358b82e0892de      4\n",
       "4                       abattoirs  0c43e8a2b18ffba9573fd91343865dca      5\n",
       "...                           ...                               ...    ...\n",
       "42449           zootechnical feed  31038b5276adc87194b0f647ae36abf8  42450\n",
       "42450          zootechnical foods  5306a7f02167e79365c7626ac48b4ff5  42451\n",
       "42451    zootechnical integrators  62f4c57406cd9fb1190b67ea25cb48ce  42452\n",
       "42452     zootechnics - equipment  3d86fe5ed83d4c4fe2304a311967a39e  42453\n",
       "42453  zootechnics - laboratories  b2023be31fd90aacca2be78570178d8d  42454\n",
       "\n",
       "[42454 rows x 3 columns]"
      ]
     },
     "metadata": {},
     "output_type": "display_data"
    }
   ],
   "source": [
    "# Determine the location of the dataframe containing the company based products and services\n",
    "europages_activities_catalogue_location = \"../../data/example_data/input/scraped_data/scraped_EP_products_catalogue.csv\"\n",
    "\n",
    "# Read the dataframe\n",
    "europages_activities_catalogue  = pd.read_csv(europages_activities_catalogue_location)\n",
    "\n",
    "# Display dataframe\n",
    "display(europages_activities_catalogue)"
   ]
  },
  {
   "cell_type": "markdown",
   "metadata": {},
   "source": [
    "### Base Data"
   ]
  },
  {
   "cell_type": "code",
   "execution_count": 12,
   "metadata": {},
   "outputs": [
    {
     "data": {
      "text/html": [
       "<div>\n",
       "<style scoped>\n",
       "    .dataframe tbody tr th:only-of-type {\n",
       "        vertical-align: middle;\n",
       "    }\n",
       "\n",
       "    .dataframe tbody tr th {\n",
       "        vertical-align: top;\n",
       "    }\n",
       "\n",
       "    .dataframe thead th {\n",
       "        text-align: right;\n",
       "    }\n",
       "</style>\n",
       "<table border=\"1\" class=\"dataframe\">\n",
       "  <thead>\n",
       "    <tr style=\"text-align: right;\">\n",
       "      <th></th>\n",
       "      <th>products_id</th>\n",
       "      <th>products_and_services</th>\n",
       "    </tr>\n",
       "  </thead>\n",
       "  <tbody>\n",
       "    <tr>\n",
       "      <th>0</th>\n",
       "      <td>164399edbf8e880dc2e856f50d51e720bd0a8abe</td>\n",
       "      <td>fish, frozen and deep-frozen</td>\n",
       "    </tr>\n",
       "    <tr>\n",
       "      <th>1</th>\n",
       "      <td>b0d3c55743b1b858ec2843c8870116bb8af543fd</td>\n",
       "      <td>drilling and test boring - equipment</td>\n",
       "    </tr>\n",
       "    <tr>\n",
       "      <th>2</th>\n",
       "      <td>b14c038972e6a52bfbf3ffbe77def57a62c5b9cf</td>\n",
       "      <td>well-management services</td>\n",
       "    </tr>\n",
       "    <tr>\n",
       "      <th>3</th>\n",
       "      <td>abadc2542b4b5c1ecfe41c22afb2347b1d9b65af</td>\n",
       "      <td>electronic data processing - software</td>\n",
       "    </tr>\n",
       "    <tr>\n",
       "      <th>4</th>\n",
       "      <td>60c58ad2ef34d96fae028f1039fab03dec9eb9a2</td>\n",
       "      <td>communication</td>\n",
       "    </tr>\n",
       "    <tr>\n",
       "      <th>...</th>\n",
       "      <td>...</td>\n",
       "      <td>...</td>\n",
       "    </tr>\n",
       "    <tr>\n",
       "      <th>32058</th>\n",
       "      <td>a56bfdd9971ddba76de33e5dd394faab63d2c58c</td>\n",
       "      <td>trading in non-ferrous products</td>\n",
       "    </tr>\n",
       "    <tr>\n",
       "      <th>32059</th>\n",
       "      <td>d16685f9db86a7e446d5a4c763a17016ffdfa613</td>\n",
       "      <td>precision weights for scales</td>\n",
       "    </tr>\n",
       "    <tr>\n",
       "      <th>32060</th>\n",
       "      <td>37c8e6d302d907a76f49d45a91949c86dd5fcc03</td>\n",
       "      <td>weights and masses - measurement and verificat...</td>\n",
       "    </tr>\n",
       "    <tr>\n",
       "      <th>32061</th>\n",
       "      <td>4aa756effa61af41058cf80f475a03b439232cfe</td>\n",
       "      <td>manicure scissors</td>\n",
       "    </tr>\n",
       "    <tr>\n",
       "      <th>32062</th>\n",
       "      <td>c732592a40981d7bd20a41585672204b41f93b12</td>\n",
       "      <td>mozzarella for pizza</td>\n",
       "    </tr>\n",
       "  </tbody>\n",
       "</table>\n",
       "<p>32063 rows × 2 columns</p>\n",
       "</div>"
      ],
      "text/plain": [
       "                                    products_id  \\\n",
       "0      164399edbf8e880dc2e856f50d51e720bd0a8abe   \n",
       "1      b0d3c55743b1b858ec2843c8870116bb8af543fd   \n",
       "2      b14c038972e6a52bfbf3ffbe77def57a62c5b9cf   \n",
       "3      abadc2542b4b5c1ecfe41c22afb2347b1d9b65af   \n",
       "4      60c58ad2ef34d96fae028f1039fab03dec9eb9a2   \n",
       "...                                         ...   \n",
       "32058  a56bfdd9971ddba76de33e5dd394faab63d2c58c   \n",
       "32059  d16685f9db86a7e446d5a4c763a17016ffdfa613   \n",
       "32060  37c8e6d302d907a76f49d45a91949c86dd5fcc03   \n",
       "32061  4aa756effa61af41058cf80f475a03b439232cfe   \n",
       "32062  c732592a40981d7bd20a41585672204b41f93b12   \n",
       "\n",
       "                                   products_and_services  \n",
       "0                           fish, frozen and deep-frozen  \n",
       "1                   drilling and test boring - equipment  \n",
       "2                               well-management services  \n",
       "3                  electronic data processing - software  \n",
       "4                                          communication  \n",
       "...                                                  ...  \n",
       "32058                    trading in non-ferrous products  \n",
       "32059                       precision weights for scales  \n",
       "32060  weights and masses - measurement and verificat...  \n",
       "32061                                  manicure scissors  \n",
       "32062                               mozzarella for pizza  \n",
       "\n",
       "[32063 rows x 2 columns]"
      ]
     },
     "metadata": {},
     "output_type": "display_data"
    }
   ],
   "source": [
    "# Determine the location of the dataframe containing the translated text\n",
    "base_tilt_data_location = \"../../data/example_data/input/tilt_base_products_and_services_unprocessed.csv\"\n",
    "\n",
    "# use raw_df\n",
    "base_tilt_data = pd.read_csv(base_tilt_data_location)\n",
    "\n",
    "# Display the dataframe\n",
    "display(base_tilt_data)"
   ]
  },
  {
   "cell_type": "markdown",
   "metadata": {},
   "source": [
    "### tilt Italy Data"
   ]
  },
  {
   "cell_type": "code",
   "execution_count": 13,
   "metadata": {},
   "outputs": [
    {
     "data": {
      "text/html": [
       "<div>\n",
       "<style scoped>\n",
       "    .dataframe tbody tr th:only-of-type {\n",
       "        vertical-align: middle;\n",
       "    }\n",
       "\n",
       "    .dataframe tbody tr th {\n",
       "        vertical-align: top;\n",
       "    }\n",
       "\n",
       "    .dataframe thead th {\n",
       "        text-align: right;\n",
       "    }\n",
       "</style>\n",
       "<table border=\"1\" class=\"dataframe\">\n",
       "  <thead>\n",
       "    <tr style=\"text-align: right;\">\n",
       "      <th></th>\n",
       "      <th>products_and_services</th>\n",
       "      <th>products_id</th>\n",
       "    </tr>\n",
       "  </thead>\n",
       "  <tbody>\n",
       "    <tr>\n",
       "      <th>0</th>\n",
       "      <td>persian blue salt</td>\n",
       "      <td>50abde66-58b7-4fb3-a007-1077fa41a010</td>\n",
       "    </tr>\n",
       "    <tr>\n",
       "      <th>1</th>\n",
       "      <td>organic saffron bio</td>\n",
       "      <td>0ea739bc-c3fb-4476-b8d6-96ba5085aa00</td>\n",
       "    </tr>\n",
       "    <tr>\n",
       "      <th>2</th>\n",
       "      <td>rossoro</td>\n",
       "      <td>2b898f73-e699-4b52-926d-476b51dacd42</td>\n",
       "    </tr>\n",
       "    <tr>\n",
       "      <th>3</th>\n",
       "      <td>peas</td>\n",
       "      <td>a7849fec-bf97-48b0-b89b-cb910a8d6dc8</td>\n",
       "    </tr>\n",
       "    <tr>\n",
       "      <th>4</th>\n",
       "      <td>cauliflowers</td>\n",
       "      <td>e09840c2-df4a-4920-b91b-e23177b5f5b3</td>\n",
       "    </tr>\n",
       "    <tr>\n",
       "      <th>...</th>\n",
       "      <td>...</td>\n",
       "      <td>...</td>\n",
       "    </tr>\n",
       "    <tr>\n",
       "      <th>3430</th>\n",
       "      <td>enamels</td>\n",
       "      <td>77890bab-e5c2-40d1-bcf7-f11fb9ac8c09</td>\n",
       "    </tr>\n",
       "    <tr>\n",
       "      <th>3431</th>\n",
       "      <td>breathable and mould resistant plastic coverings</td>\n",
       "      <td>d675d682-018e-4829-ac66-e61155d7a45e</td>\n",
       "    </tr>\n",
       "    <tr>\n",
       "      <th>3432</th>\n",
       "      <td>quartz paints</td>\n",
       "      <td>e5f78c8c-b79e-4a12-8451-867349f09cc6</td>\n",
       "    </tr>\n",
       "    <tr>\n",
       "      <th>3433</th>\n",
       "      <td>carpet</td>\n",
       "      <td>1f4814fc-759f-49b6-b2cc-9ba1c77582bd</td>\n",
       "    </tr>\n",
       "    <tr>\n",
       "      <th>3434</th>\n",
       "      <td>flame-resistant wallpaper</td>\n",
       "      <td>c2505123-a5fe-495f-b5ce-693feb1304f6</td>\n",
       "    </tr>\n",
       "  </tbody>\n",
       "</table>\n",
       "<p>3435 rows × 2 columns</p>\n",
       "</div>"
      ],
      "text/plain": [
       "                                 products_and_services  \\\n",
       "0                                    persian blue salt   \n",
       "1                                  organic saffron bio   \n",
       "2                                              rossoro   \n",
       "3                                                 peas   \n",
       "4                                         cauliflowers   \n",
       "...                                                ...   \n",
       "3430                                           enamels   \n",
       "3431  breathable and mould resistant plastic coverings   \n",
       "3432                                     quartz paints   \n",
       "3433                                            carpet   \n",
       "3434                         flame-resistant wallpaper   \n",
       "\n",
       "                               products_id  \n",
       "0     50abde66-58b7-4fb3-a007-1077fa41a010  \n",
       "1     0ea739bc-c3fb-4476-b8d6-96ba5085aa00  \n",
       "2     2b898f73-e699-4b52-926d-476b51dacd42  \n",
       "3     a7849fec-bf97-48b0-b89b-cb910a8d6dc8  \n",
       "4     e09840c2-df4a-4920-b91b-e23177b5f5b3  \n",
       "...                                    ...  \n",
       "3430  77890bab-e5c2-40d1-bcf7-f11fb9ac8c09  \n",
       "3431  d675d682-018e-4829-ac66-e61155d7a45e  \n",
       "3432  e5f78c8c-b79e-4a12-8451-867349f09cc6  \n",
       "3433  1f4814fc-759f-49b6-b2cc-9ba1c77582bd  \n",
       "3434  c2505123-a5fe-495f-b5ce-693feb1304f6  \n",
       "\n",
       "[3435 rows x 2 columns]"
      ]
     },
     "metadata": {},
     "output_type": "display_data"
    }
   ],
   "source": [
    "# Determine the location of the dataframe containing the translated text\n",
    "italy_tilt_data_location = \"../../data/example_data/input/tilt_italy_products_and_services_unprocessed.csv\"\n",
    "\n",
    "# use raw_df\n",
    "italy_tilt_data = pd.read_csv(italy_tilt_data_location)\n",
    "\n",
    "# Display the dataframe\n",
    "display(italy_tilt_data)"
   ]
  },
  {
   "cell_type": "markdown",
   "metadata": {},
   "source": [
    "## 0.3 Filtering"
   ]
  },
  {
   "cell_type": "code",
   "execution_count": 14,
   "metadata": {},
   "outputs": [],
   "source": [
    "def exclude_covered_records(df_1, df_2):\n",
    "    # Merge the two dataframes based on the 'products_and_services' column\n",
    "    merged_df = df_1.merge(df_2, on='products_and_services', how='inner')\n",
    "\n",
    "    # Remove ID column and rename products_id_y to linke_EP_products_id\n",
    "    merged_df = merged_df.drop(['ID', 'products_id_y'], axis=1)\n",
    "    merged_df = merged_df.rename(columns={'products_id_x': 'products_id'})\n",
    "    \n",
    "    # add column called to_process which labels the records that need to be processed\n",
    "    merged_df['to_process'] = False\n",
    "    \n",
    "\n",
    "    # concatentate the merged_df with the records in df_1 that arent in merged_df based of products_id\n",
    "    df_1 = df_1[~df_1['products_id'].isin(merged_df['products_id'])]\n",
    "    merged_df = pd.concat([merged_df, df_1], ignore_index=True)\t\n",
    "    # replace the NaN values in the to_process column with \"yes\"\n",
    "    merged_df['to_process'] = merged_df['to_process'].fillna(True)\n",
    "\n",
    "    return merged_df"
   ]
  },
  {
   "cell_type": "markdown",
   "metadata": {},
   "source": [
    "### Base Data"
   ]
  },
  {
   "cell_type": "code",
   "execution_count": 15,
   "metadata": {},
   "outputs": [],
   "source": [
    "filtered_base_data = exclude_covered_records(base_tilt_data, europages_activities_catalogue)"
   ]
  },
  {
   "cell_type": "markdown",
   "metadata": {},
   "source": [
    "### tilt Italy Data"
   ]
  },
  {
   "cell_type": "code",
   "execution_count": 16,
   "metadata": {},
   "outputs": [],
   "source": [
    "filtered_italy_data = exclude_covered_records(italy_tilt_data, europages_activities_catalogue)"
   ]
  },
  {
   "cell_type": "markdown",
   "metadata": {},
   "source": [
    "## 0.4 Export the filtered dataframe"
   ]
  },
  {
   "cell_type": "markdown",
   "metadata": {},
   "source": [
    "### Base Data"
   ]
  },
  {
   "cell_type": "code",
   "execution_count": 17,
   "metadata": {},
   "outputs": [],
   "source": [
    "# Define the path for the new dataframe\n",
    "output_filtered_base_data = \"../../data/example_data/output/base_data/base_flagged_products.csv\"\n",
    "\n",
    "# Write the new dataframe to the path\n",
    "filtered_base_data.to_csv(output_filtered_base_data,index = False)"
   ]
  },
  {
   "cell_type": "markdown",
   "metadata": {},
   "source": [
    "### tilt Italy Data"
   ]
  },
  {
   "cell_type": "code",
   "execution_count": 18,
   "metadata": {},
   "outputs": [],
   "source": [
    "# Define the path for the new dataframe\n",
    "output_filtered_italy_data = \"../../data/example_data/output/italy_data/italy_flagged_products.csv\"\n",
    "\n",
    "# Write the new dataframe to the path\n",
    "filtered_italy_data.to_csv(output_filtered_italy_data,index = False)"
   ]
  }
 ],
 "metadata": {
  "kernelspec": {
   "display_name": "Python 3",
   "language": "python",
   "name": "python3"
  },
  "language_info": {
   "codemirror_mode": {
    "name": "ipython",
    "version": 3
   },
   "file_extension": ".py",
   "mimetype": "text/x-python",
   "name": "python",
   "nbconvert_exporter": "python",
   "pygments_lexer": "ipython3",
   "version": "3.10.13"
  }
 },
 "nbformat": 4,
 "nbformat_minor": 2
}
