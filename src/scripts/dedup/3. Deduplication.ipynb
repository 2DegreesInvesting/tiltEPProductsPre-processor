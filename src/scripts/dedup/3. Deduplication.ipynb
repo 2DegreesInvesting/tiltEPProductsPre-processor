{
 "cells": [
  {
   "cell_type": "markdown",
   "metadata": {},
   "source": [
    "# 3. Deduplication"
   ]
  },
  {
   "cell_type": "markdown",
   "metadata": {},
   "source": [
    "## 3.1 Import the required libaries"
   ]
  },
  {
   "cell_type": "code",
   "execution_count": 177,
   "metadata": {},
   "outputs": [],
   "source": [
    "from unidecode import unidecode\n",
    "import pandas as pd\n",
    "import numpy as np\n",
    "import datetime\n",
    "import dedupe\n",
    "import csv\n",
    "import re\n",
    "import os\n",
    "import time"
   ]
  },
  {
   "cell_type": "markdown",
   "metadata": {},
   "source": [
    "## 3.2 Load Data"
   ]
  },
  {
   "cell_type": "markdown",
   "metadata": {},
   "source": [
    "### Mandatory input files"
   ]
  },
  {
   "cell_type": "code",
   "execution_count": 176,
   "metadata": {},
   "outputs": [],
   "source": [
    "ep_catalogue= \"../../data/example_data/input/scraped_EP_products_catalogue.csv\"\n",
    "dedup_settings_file = '../../dedupe_files/dedup_learned_settings'\n",
    "dedup_training_file = '../../dedupe_files/dedup_training.json'\n",
    "rl_settings_file = '../../dedupe_files/record_linkage_learned_settings'\n",
    "rl_training_file = '../../dedupe_files/record_linkage_training.json'"
   ]
  },
  {
   "cell_type": "markdown",
   "metadata": {},
   "source": [
    "### Base Data"
   ]
  },
  {
   "cell_type": "code",
   "execution_count": 174,
   "metadata": {},
   "outputs": [],
   "source": [
    "base_data_file_location =\"../../data/example_data/output/base_data/products_and_services_processed.csv\"\n",
    "base_data_output_file = '../../data/example_data/output/base_data/linked_data.csv'"
   ]
  },
  {
   "cell_type": "markdown",
   "metadata": {},
   "source": [
    "### new Italy Data"
   ]
  },
  {
   "cell_type": "code",
   "execution_count": 175,
   "metadata": {},
   "outputs": [],
   "source": [
    "italy_data_file_location = \"../../data/example_data/output/italy_data/italy_translated_products.csv\"\n",
    "italy_deduped_file = \"../../data/example_data/output/italy_data/italy_deduped.csv\"\n",
    "italy_output_file = '../../data/example_data/output/italy_data/linked_data.csv'"
   ]
  },
  {
   "cell_type": "markdown",
   "metadata": {},
   "source": [
    "## 3.3 Deduplication"
   ]
  },
  {
   "cell_type": "markdown",
   "metadata": {},
   "source": [
    "### Helper functions"
   ]
  },
  {
   "cell_type": "code",
   "execution_count": 173,
   "metadata": {},
   "outputs": [],
   "source": [
    "def preProcess(column):\n",
    "    column = unidecode(column)\n",
    "    column = re.sub('\\n', ' ', column)\n",
    "    column = re.sub('-', '', column)\n",
    "    column = re.sub('/', ' ', column)\n",
    "    column = re.sub(\"'\", '', column)\n",
    "    column = re.sub(\",\", '', column)\n",
    "    column = re.sub(\":\", ' ', column)\n",
    "    column = re.sub('  +', ' ', column)\n",
    "    column = column.strip().strip('\"').strip(\"'\").lower().strip()\n",
    "    if not column:\n",
    "        column = None\n",
    "    return column"
   ]
  },
  {
   "cell_type": "code",
   "execution_count": 192,
   "metadata": {},
   "outputs": [],
   "source": [
    "def convert_pandas_to_dict(dataframe, which = \"None\", type = \"dedup\"):\n",
    "    data_d = {}\n",
    "    for i, row in dataframe.iterrows():\n",
    "        x = zip(row.index, row.values)\n",
    "        clean_row = dict([(k, preProcess(str(v))) for (k, v) in x])\n",
    "        if type != \"dedup\":\n",
    "            data_d[which + str(i)] = clean_row\n",
    "        else:\n",
    "            data_d[i] = dict(clean_row)\n",
    "    return data_d"
   ]
  },
  {
   "cell_type": "code",
   "execution_count": 171,
   "metadata": {},
   "outputs": [],
   "source": [
    "def seconds_conversion(seconds):\n",
    "    # Convert the time difference to a timedelta object\n",
    "    time_delta = datetime.timedelta(seconds=seconds)\n",
    "\n",
    "    # Extract the hours, minutes, and seconds from the timedelta object\n",
    "    hours = time_delta.seconds // 3600\n",
    "    minutes = (time_delta.seconds % 3600) // 60\n",
    "    seconds = time_delta.seconds % 60\n",
    "    return (hours, minutes, seconds)"
   ]
  },
  {
   "cell_type": "code",
   "execution_count": 211,
   "metadata": {},
   "outputs": [],
   "source": [
    "x = "
   ]
  },
  {
   "cell_type": "code",
   "execution_count": 219,
   "metadata": {},
   "outputs": [
    {
     "name": "stdout",
     "output_type": "stream",
     "text": [
      "\n",
      "\n",
      "/=========== Dedup x Record Linkage finished. Duration: 0 hours, 1 minutes, 41 seconds ===========/\n"
     ]
    }
   ],
   "source": [
    "print(\"\\n\\n/=========== Dedup x Record Linkage finished. Duration: {} hours, {} minutes, {} seconds ===========/\".format(*seconds_conversion(101)))"
   ]
  },
  {
   "cell_type": "markdown",
   "metadata": {},
   "source": [
    "### Dedupe modules"
   ]
  },
  {
   "cell_type": "markdown",
   "metadata": {},
   "source": [
    "#### Deduplication module"
   ]
  },
  {
   "cell_type": "code",
   "execution_count": 205,
   "metadata": {},
   "outputs": [],
   "source": [
    "def deduplication(file, settings, training, write = False, out = \"None\"):\n",
    "   # Read the csv files\n",
    "   print('Importing data ...')\n",
    "   df = pd.read_csv(file)\n",
    "\n",
    "   # stage 1: Deduplication using dedupe library\n",
    "   print(\"----Start of stage 1----\")\n",
    "   print('Preparing dedupe data ...')\n",
    "   dedup_data = convert_pandas_to_dict(df, \"dedup\")\n",
    "\n",
    "   if os.path.exists(settings):\n",
    "      print('Settings file found! Reading settings from \"{}\"'.format(settings))\n",
    "      with open(settings, 'rb') as sf:\n",
    "         deduper = dedupe.StaticDedupe(sf)\n",
    "   # If no settings file exists, create train a new linker object\n",
    "   else:\n",
    "      # Define the fields that will be used for the record linkage\n",
    "      fields = [\n",
    "               {'field': 'products_and_services', 'type': 'String'}] # consider Text type instead of String\n",
    "      \n",
    "      # Create a new linker object and pass the fields to it\n",
    "      deduper = dedupe.Dedupe(fields)\n",
    "      print(\"Preparing training...\")\n",
    "      if os.path.exists(training):\n",
    "         print('Reading labeled examples from ', training)\n",
    "         with open(training) as tf:\n",
    "               deduper.prepare_training(dedup_data,\n",
    "                                       training_file=tf)\n",
    "      else:\n",
    "         # Prepare the linker object for training using the two datasets\n",
    "         deduper.prepare_training(dedup_data)\n",
    "      # Start the active labeling\n",
    "      print('Starting active labeling...')\n",
    "      dedupe.console_label(deduper)\n",
    "      # Train the linker object using the active labeling as additional input\n",
    "      print(\"Training...\")\n",
    "      deduper.train()\n",
    "      print(\"Training finished!\")\n",
    "      # write the labelled training examples to disk\n",
    "      with open(training, 'w') as tf:\n",
    "         deduper.write_training(tf)\n",
    "      # write the settings file to disk\n",
    "      with open(settings, 'wb') as sf:\n",
    "         deduper.write_settings(sf)\n",
    "\n",
    "   print('Clustering..')\n",
    "   clustered_dupes = deduper.partition(dedup_data, 0.5)\n",
    "   print('Clustering finished!. {} duplicates found'.format(len(df)-len(clustered_dupes)))\n",
    "\n",
    "   print('Dropping duplicates...')\n",
    "   rows_to_drop = []\n",
    "   for _, (records, scores) in enumerate(clustered_dupes):\n",
    "      rows_to_drop.append(records[1:])\n",
    "\n",
    "   # flatten list of lists\n",
    "   rows_to_drop = [item for sublist in rows_to_drop for item in sublist]\n",
    "   df = df.drop(df.index[rows_to_drop])\n",
    "   \n",
    "   print (\"Duplicates dropped!\")\n",
    "   print(\"----Finished stage 1----\")\n",
    "   \n",
    "   if write: \n",
    "      print('Writing deduplicated output to file...')\n",
    "      df.to_csv(out, index=False)\n",
    "\n",
    "   return df"
   ]
  },
  {
   "cell_type": "markdown",
   "metadata": {},
   "source": [
    "#### Record Linkage module"
   ]
  },
  {
   "cell_type": "code",
   "execution_count": 202,
   "metadata": {},
   "outputs": [],
   "source": [
    "def record_linkage(left_df, right_df, settings, training, write = False, out = \"None\"):\n",
    "    root_l_df = left_df.copy()\n",
    "    root_r_df = right_df.copy()\n",
    "    if isinstance(left_df, str):\n",
    "        print('Importing data ...')\n",
    "        root_l_df = pd.read_csv(left_df)\n",
    "        root_r_df = pd.read_csv(right_df)\n",
    "\n",
    "    # Stage 1: Direct products_and_services linkage using merging\n",
    "    print(\"----Start of stage 1----\")\n",
    "    print('Directly merging data...')\n",
    "    # Merge the two dataframes based on the 'products_and_services' column\n",
    "    merged_df = root_l_df.merge(root_r_df, on='products_and_services', how='left', suffixes=['_x', '_y']).drop(columns=\"ID\")\n",
    "    merged_df = merged_df.merge(root_r_df, left_on='products_id_y', right_on='products_id', how=\"left\").drop(columns=[\"ID\",\"products_id\"])\n",
    "    # Create a new dataframe that contains rows from company_based_p_and_s that could not be directly matched\n",
    "    non_matched_products = merged_df[merged_df.isna().any(axis=1)].drop(columns=[\"products_id_y\", \"products_and_services_y\"]).rename(columns={\"products_and_services_x\": \"products_and_services\"})\n",
    "    # Get the percentage of products_and_services that could be directly matched\n",
    "    percentage_matched = len(merged_df.dropna())/len(root_l_df)*100\n",
    "    print('Percentage of products_and_services that could be directly matched: {0:.2f}%'.format(percentage_matched))\n",
    "    print(\"----Finished stage 1----\\n\")\n",
    "\n",
    "    # Stage 2: Remaining products_and_services linkage using dedupe\n",
    "    print(\"----Start of stage 2----\")\n",
    "    print('Preparing record linkage data...')\n",
    "    # Convert the dataframes to dictionaries\n",
    "    linkage_data_1 = convert_pandas_to_dict(non_matched_products, \"left\", \"linkage\")\n",
    "    linkage_data_2 = convert_pandas_to_dict(root_r_df, \"right\", \"linkage\")\n",
    "    print('Attempting products_and_services linkage on the remainder using dedupe...')\n",
    "    # Check if a settings file already exists and use if can be found\n",
    "    if os.path.exists(settings):\n",
    "        print('Settings file found! Reading settings from \"{}\"'.format(settings))\n",
    "        with open(settings, 'rb') as sf:\n",
    "            linker = dedupe.StaticRecordLink(sf)\n",
    "    # If no settings file exists, create train a new linker object\n",
    "    else:\n",
    "        # Define the fields that will be used for the record linkage\n",
    "        fields = [\n",
    "                {'field': 'products_and_services', 'type': 'String'}] # consider Text type instead of String\n",
    "        \n",
    "        # Create a new linker object and pass the fields to it\n",
    "        linker = dedupe.RecordLink(fields)\n",
    "        print(\"Preparing training...\")\n",
    "        if os.path.exists(training):\n",
    "            print('Reading labeled examples from ', training)\n",
    "            with open(training) as tf:\n",
    "                linker.prepare_training(linkage_data_1,\n",
    "                                        linkage_data_2,\n",
    "                                        training_file=tf,\n",
    "                                        sample_size=10000)\n",
    "        else:\n",
    "            # Prepare the linker object for training using the two datasets\n",
    "            linker.prepare_training(linkage_data_1, linkage_data_2, sample_size=10000)\n",
    "        # Start the active labeling\n",
    "        print('Starting active labeling...')\n",
    "        dedupe.console_label(linker)\n",
    "        # Train the linker object using the active labeling as additional input\n",
    "        print(\"Training...\")\n",
    "        linker.train()\n",
    "        print(\"Training finished!\")\n",
    "        # write the labelled training examples to disk\n",
    "        with open(training, 'w') as tf:\n",
    "            linker.write_training(tf)\n",
    "        # write the settings file to disk\n",
    "        with open(settings, 'wb') as sf:\n",
    "            linker.write_settings(sf)\n",
    "    # Perform the record linkage\n",
    "    print('Performing linking...')\n",
    "    linked_records = linker.join(linkage_data_1, linkage_data_2, 0.0)\n",
    "    print('Succesfully linked {} records'.format(len(linked_records)))\n",
    "    for _, (cluster, score) in enumerate(linked_records):\n",
    "        non_matched_products.loc[int(re.search(r\"\\d+\", cluster[0]).group()), 'products_and_services_y'] = root_r_df.loc[int(re.search(r\"\\d+\", cluster[1]).group()), 'products_and_services']\n",
    "        non_matched_products.loc[int(re.search(r\"\\d+\", cluster[0]).group()), 'products_id_y'] = root_r_df.loc[int(re.search(r\"\\d+\", cluster[1]).group()), 'products_id']\n",
    "    \n",
    "    merged_df = merged_df.fillna(non_matched_products).rename(columns = {\"products_and_services_y\": \"EuroPages products_and_services\", \"products_id_y\": \"EuroPages products_id\"})\n",
    "    print(\"Coverage increased to {0:.2f}%\".format(len(merged_df.dropna())/len(root_l_df)*100))\n",
    "    print(\"----Finished stage 2----\\n\")\n",
    "    if write:\n",
    "        print('Writing results to \"{}\"'.format(out))\n",
    "        merged_df.to_csv(out, index=False)\n",
    "\n",
    "    return merged_df"
   ]
  },
  {
   "cell_type": "code",
   "execution_count": 220,
   "metadata": {},
   "outputs": [],
   "source": [
    "def dedup_and_link(df, ep_df_path, out, dedup_settings_file, dedup_training_file, linking_settings_file, linking_training_file):\n",
    "    # Start timer\n",
    "    print(\"\\n/=========== Dedup x Record Linkage started ===========/\")\n",
    "    start_time = time.time()\n",
    "    # Phase 1: applying deduplication module to the data\n",
    "    print(\"/=========== Start of phase 1: Deduplication ===========/\")\n",
    "    deduped_data = deduplication(df, dedup_settings_file, dedup_training_file)\n",
    "\n",
    "    # Phase 2: applying record linkage module to the data\n",
    "    print(\"\\n\\n/=========== Start of phase 2: Record Linkage ===========/\")\n",
    "    linked_data = record_linkage(deduped_data, pd.read_csv(ep_df_path), linking_settings_file, linking_training_file)\n",
    "    end_time = time.time()\n",
    "\n",
    "    print(\"\\n\\n/=========== Dedup x Record Linkage finished. Duration: {} hours, {} minutes, {} seconds ===========/\".format(*seconds_conversion(end_time - start_time)))\n",
    "\n",
    "    print('Writing results to \"{}\"'.format(out))\n",
    "    linked_data.to_csv(out, index=False)\n"
   ]
  },
  {
   "cell_type": "markdown",
   "metadata": {},
   "source": [
    "## 3.3.1 Duplicate removal"
   ]
  },
  {
   "cell_type": "markdown",
   "metadata": {},
   "source": [
    "### Base Data"
   ]
  },
  {
   "cell_type": "code",
   "execution_count": null,
   "metadata": {},
   "outputs": [],
   "source": []
  },
  {
   "cell_type": "markdown",
   "metadata": {},
   "source": [
    "### new Italy Data"
   ]
  },
  {
   "cell_type": "code",
   "execution_count": 221,
   "metadata": {},
   "outputs": [
    {
     "name": "stdout",
     "output_type": "stream",
     "text": [
      "\n",
      "/=========== Dedup x Record Linkage started ===========/\n",
      "/=========== Start of phase 1: Deduplication ===========/\n",
      "Importing data ...\n",
      "----Start of stage 1----\n",
      "Preparing dedupe data ...\n",
      "Settings file found! Reading settings from \"../../dedupe_files/dedup_learned_settings\"\n",
      "Clustering..\n",
      "Clustering finished!. 4176 duplicates found\n",
      "Dropping duplicates...\n",
      "Duplicates dropped!\n",
      "----Finished stage 1----\n",
      "\n",
      "\n",
      "/=========== Start of phase 2: Record Linkage ===========/\n",
      "----Start of stage 1----\n",
      "Directly merging data...\n",
      "Percentage of products_and_services that could be directly matched: 0.25%\n",
      "----Finished stage 1----\n",
      "\n",
      "----Start of stage 2----\n",
      "Preparing record linkage data...\n",
      "Attempting products_and_services linkage on the remainder using dedupe...\n",
      "Settings file found! Reading settings from \"../../dedupe_files/record_linkage_learned_settings\"\n",
      "Performing linking...\n",
      "Succesfully linked 8018 records\n",
      "Coverage increased to 77.34%\n",
      "----Finished stage 2----\n",
      "\n",
      "\n",
      "\n",
      "/=========== Dedup x Record Linkage finished. Duration: 0 hours, 0 minutes, 28 seconds ===========/\n",
      "Writing results to \"../../data/example_data/output/italy_data/linked_data.csv\"\n"
     ]
    }
   ],
   "source": [
    "dedup_and_link(italy_data_file_location, ep_catalogue, italy_output_file, dedup_settings_file, dedup_training_file, rl_settings_file, rl_training_file)"
   ]
  },
  {
   "cell_type": "markdown",
   "metadata": {},
   "source": [
    "## 3.3.2 Linking to EuroPages activity catalogue"
   ]
  },
  {
   "cell_type": "markdown",
   "metadata": {},
   "source": [
    "### Base data"
   ]
  },
  {
   "cell_type": "code",
   "execution_count": null,
   "metadata": {},
   "outputs": [],
   "source": [
    "record_linkage(base_data_file_location, ep_catalogue, base_data_output_file, rl_settings_file, rl_training_file)"
   ]
  },
  {
   "cell_type": "markdown",
   "metadata": {},
   "source": [
    "### new Italy Data"
   ]
  },
  {
   "cell_type": "code",
   "execution_count": 191,
   "metadata": {},
   "outputs": [
    {
     "name": "stdout",
     "output_type": "stream",
     "text": [
      "Importing data ...\n"
     ]
    },
    {
     "ename": "FileNotFoundError",
     "evalue": "[Errno 2] No such file or directory: '../../data/example_data/output/italy_data/italy_deduped.csv'",
     "output_type": "error",
     "traceback": [
      "\u001b[1;31m---------------------------------------------------------------------------\u001b[0m",
      "\u001b[1;31mFileNotFoundError\u001b[0m                         Traceback (most recent call last)",
      "Cell \u001b[1;32mIn[191], line 1\u001b[0m\n\u001b[1;32m----> 1\u001b[0m \u001b[43mrecord_linkage\u001b[49m\u001b[43m(\u001b[49m\u001b[43mitaly_deduped_file\u001b[49m\u001b[43m,\u001b[49m\u001b[43m \u001b[49m\u001b[43mep_catalogue\u001b[49m\u001b[43m,\u001b[49m\u001b[43m \u001b[49m\u001b[43mitaly_output_file\u001b[49m\u001b[43m,\u001b[49m\u001b[43m \u001b[49m\u001b[43mrl_settings_file\u001b[49m\u001b[43m,\u001b[49m\u001b[43m \u001b[49m\u001b[43mrl_training_file\u001b[49m\u001b[43m)\u001b[49m\n",
      "Cell \u001b[1;32mIn[185], line 4\u001b[0m, in \u001b[0;36mrecord_linkage\u001b[1;34m(l_file, r_file, settings, training, write, out)\u001b[0m\n\u001b[0;32m      1\u001b[0m \u001b[38;5;28;01mdef\u001b[39;00m \u001b[38;5;21mrecord_linkage\u001b[39m(l_file, r_file, settings, training, write \u001b[38;5;241m=\u001b[39m \u001b[38;5;28;01mFalse\u001b[39;00m, out \u001b[38;5;241m=\u001b[39m \u001b[38;5;124m\"\u001b[39m\u001b[38;5;124mNone\u001b[39m\u001b[38;5;124m\"\u001b[39m):\n\u001b[0;32m      2\u001b[0m     \u001b[38;5;66;03m# Read the csv files\u001b[39;00m\n\u001b[0;32m      3\u001b[0m     \u001b[38;5;28mprint\u001b[39m(\u001b[38;5;124m'\u001b[39m\u001b[38;5;124mImporting data ...\u001b[39m\u001b[38;5;124m'\u001b[39m)\n\u001b[1;32m----> 4\u001b[0m     root_l_df \u001b[38;5;241m=\u001b[39m \u001b[43mpd\u001b[49m\u001b[38;5;241;43m.\u001b[39;49m\u001b[43mread_csv\u001b[49m\u001b[43m(\u001b[49m\u001b[43ml_file\u001b[49m\u001b[43m)\u001b[49m\n\u001b[0;32m      5\u001b[0m     root_r_df \u001b[38;5;241m=\u001b[39m pd\u001b[38;5;241m.\u001b[39mread_csv(r_file)\n\u001b[0;32m      7\u001b[0m     \u001b[38;5;66;03m# Stage 1: Direct products_and_services linkage using merging\u001b[39;00m\n",
      "File \u001b[1;32mc:\\Users\\selsabrouty\\AppData\\Local\\anaconda3\\envs\\new-tilt-nlp-preprocessing\\lib\\site-packages\\pandas\\util\\_decorators.py:211\u001b[0m, in \u001b[0;36mdeprecate_kwarg.<locals>._deprecate_kwarg.<locals>.wrapper\u001b[1;34m(*args, **kwargs)\u001b[0m\n\u001b[0;32m    209\u001b[0m     \u001b[38;5;28;01melse\u001b[39;00m:\n\u001b[0;32m    210\u001b[0m         kwargs[new_arg_name] \u001b[38;5;241m=\u001b[39m new_arg_value\n\u001b[1;32m--> 211\u001b[0m \u001b[38;5;28;01mreturn\u001b[39;00m func(\u001b[38;5;241m*\u001b[39margs, \u001b[38;5;241m*\u001b[39m\u001b[38;5;241m*\u001b[39mkwargs)\n",
      "File \u001b[1;32mc:\\Users\\selsabrouty\\AppData\\Local\\anaconda3\\envs\\new-tilt-nlp-preprocessing\\lib\\site-packages\\pandas\\util\\_decorators.py:331\u001b[0m, in \u001b[0;36mdeprecate_nonkeyword_arguments.<locals>.decorate.<locals>.wrapper\u001b[1;34m(*args, **kwargs)\u001b[0m\n\u001b[0;32m    325\u001b[0m \u001b[38;5;28;01mif\u001b[39;00m \u001b[38;5;28mlen\u001b[39m(args) \u001b[38;5;241m>\u001b[39m num_allow_args:\n\u001b[0;32m    326\u001b[0m     warnings\u001b[38;5;241m.\u001b[39mwarn(\n\u001b[0;32m    327\u001b[0m         msg\u001b[38;5;241m.\u001b[39mformat(arguments\u001b[38;5;241m=\u001b[39m_format_argument_list(allow_args)),\n\u001b[0;32m    328\u001b[0m         \u001b[38;5;167;01mFutureWarning\u001b[39;00m,\n\u001b[0;32m    329\u001b[0m         stacklevel\u001b[38;5;241m=\u001b[39mfind_stack_level(),\n\u001b[0;32m    330\u001b[0m     )\n\u001b[1;32m--> 331\u001b[0m \u001b[38;5;28;01mreturn\u001b[39;00m func(\u001b[38;5;241m*\u001b[39margs, \u001b[38;5;241m*\u001b[39m\u001b[38;5;241m*\u001b[39mkwargs)\n",
      "File \u001b[1;32mc:\\Users\\selsabrouty\\AppData\\Local\\anaconda3\\envs\\new-tilt-nlp-preprocessing\\lib\\site-packages\\pandas\\io\\parsers\\readers.py:950\u001b[0m, in \u001b[0;36mread_csv\u001b[1;34m(filepath_or_buffer, sep, delimiter, header, names, index_col, usecols, squeeze, prefix, mangle_dupe_cols, dtype, engine, converters, true_values, false_values, skipinitialspace, skiprows, skipfooter, nrows, na_values, keep_default_na, na_filter, verbose, skip_blank_lines, parse_dates, infer_datetime_format, keep_date_col, date_parser, dayfirst, cache_dates, iterator, chunksize, compression, thousands, decimal, lineterminator, quotechar, quoting, doublequote, escapechar, comment, encoding, encoding_errors, dialect, error_bad_lines, warn_bad_lines, on_bad_lines, delim_whitespace, low_memory, memory_map, float_precision, storage_options)\u001b[0m\n\u001b[0;32m    935\u001b[0m kwds_defaults \u001b[38;5;241m=\u001b[39m _refine_defaults_read(\n\u001b[0;32m    936\u001b[0m     dialect,\n\u001b[0;32m    937\u001b[0m     delimiter,\n\u001b[1;32m   (...)\u001b[0m\n\u001b[0;32m    946\u001b[0m     defaults\u001b[38;5;241m=\u001b[39m{\u001b[38;5;124m\"\u001b[39m\u001b[38;5;124mdelimiter\u001b[39m\u001b[38;5;124m\"\u001b[39m: \u001b[38;5;124m\"\u001b[39m\u001b[38;5;124m,\u001b[39m\u001b[38;5;124m\"\u001b[39m},\n\u001b[0;32m    947\u001b[0m )\n\u001b[0;32m    948\u001b[0m kwds\u001b[38;5;241m.\u001b[39mupdate(kwds_defaults)\n\u001b[1;32m--> 950\u001b[0m \u001b[38;5;28;01mreturn\u001b[39;00m \u001b[43m_read\u001b[49m\u001b[43m(\u001b[49m\u001b[43mfilepath_or_buffer\u001b[49m\u001b[43m,\u001b[49m\u001b[43m \u001b[49m\u001b[43mkwds\u001b[49m\u001b[43m)\u001b[49m\n",
      "File \u001b[1;32mc:\\Users\\selsabrouty\\AppData\\Local\\anaconda3\\envs\\new-tilt-nlp-preprocessing\\lib\\site-packages\\pandas\\io\\parsers\\readers.py:605\u001b[0m, in \u001b[0;36m_read\u001b[1;34m(filepath_or_buffer, kwds)\u001b[0m\n\u001b[0;32m    602\u001b[0m _validate_names(kwds\u001b[38;5;241m.\u001b[39mget(\u001b[38;5;124m\"\u001b[39m\u001b[38;5;124mnames\u001b[39m\u001b[38;5;124m\"\u001b[39m, \u001b[38;5;28;01mNone\u001b[39;00m))\n\u001b[0;32m    604\u001b[0m \u001b[38;5;66;03m# Create the parser.\u001b[39;00m\n\u001b[1;32m--> 605\u001b[0m parser \u001b[38;5;241m=\u001b[39m TextFileReader(filepath_or_buffer, \u001b[38;5;241m*\u001b[39m\u001b[38;5;241m*\u001b[39mkwds)\n\u001b[0;32m    607\u001b[0m \u001b[38;5;28;01mif\u001b[39;00m chunksize \u001b[38;5;129;01mor\u001b[39;00m iterator:\n\u001b[0;32m    608\u001b[0m     \u001b[38;5;28;01mreturn\u001b[39;00m parser\n",
      "File \u001b[1;32mc:\\Users\\selsabrouty\\AppData\\Local\\anaconda3\\envs\\new-tilt-nlp-preprocessing\\lib\\site-packages\\pandas\\io\\parsers\\readers.py:1442\u001b[0m, in \u001b[0;36mTextFileReader.__init__\u001b[1;34m(self, f, engine, **kwds)\u001b[0m\n\u001b[0;32m   1439\u001b[0m     \u001b[38;5;28mself\u001b[39m\u001b[38;5;241m.\u001b[39moptions[\u001b[38;5;124m\"\u001b[39m\u001b[38;5;124mhas_index_names\u001b[39m\u001b[38;5;124m\"\u001b[39m] \u001b[38;5;241m=\u001b[39m kwds[\u001b[38;5;124m\"\u001b[39m\u001b[38;5;124mhas_index_names\u001b[39m\u001b[38;5;124m\"\u001b[39m]\n\u001b[0;32m   1441\u001b[0m \u001b[38;5;28mself\u001b[39m\u001b[38;5;241m.\u001b[39mhandles: IOHandles \u001b[38;5;241m|\u001b[39m \u001b[38;5;28;01mNone\u001b[39;00m \u001b[38;5;241m=\u001b[39m \u001b[38;5;28;01mNone\u001b[39;00m\n\u001b[1;32m-> 1442\u001b[0m \u001b[38;5;28mself\u001b[39m\u001b[38;5;241m.\u001b[39m_engine \u001b[38;5;241m=\u001b[39m \u001b[38;5;28;43mself\u001b[39;49m\u001b[38;5;241;43m.\u001b[39;49m\u001b[43m_make_engine\u001b[49m\u001b[43m(\u001b[49m\u001b[43mf\u001b[49m\u001b[43m,\u001b[49m\u001b[43m \u001b[49m\u001b[38;5;28;43mself\u001b[39;49m\u001b[38;5;241;43m.\u001b[39;49m\u001b[43mengine\u001b[49m\u001b[43m)\u001b[49m\n",
      "File \u001b[1;32mc:\\Users\\selsabrouty\\AppData\\Local\\anaconda3\\envs\\new-tilt-nlp-preprocessing\\lib\\site-packages\\pandas\\io\\parsers\\readers.py:1735\u001b[0m, in \u001b[0;36mTextFileReader._make_engine\u001b[1;34m(self, f, engine)\u001b[0m\n\u001b[0;32m   1733\u001b[0m     \u001b[38;5;28;01mif\u001b[39;00m \u001b[38;5;124m\"\u001b[39m\u001b[38;5;124mb\u001b[39m\u001b[38;5;124m\"\u001b[39m \u001b[38;5;129;01mnot\u001b[39;00m \u001b[38;5;129;01min\u001b[39;00m mode:\n\u001b[0;32m   1734\u001b[0m         mode \u001b[38;5;241m+\u001b[39m\u001b[38;5;241m=\u001b[39m \u001b[38;5;124m\"\u001b[39m\u001b[38;5;124mb\u001b[39m\u001b[38;5;124m\"\u001b[39m\n\u001b[1;32m-> 1735\u001b[0m \u001b[38;5;28mself\u001b[39m\u001b[38;5;241m.\u001b[39mhandles \u001b[38;5;241m=\u001b[39m \u001b[43mget_handle\u001b[49m\u001b[43m(\u001b[49m\n\u001b[0;32m   1736\u001b[0m \u001b[43m    \u001b[49m\u001b[43mf\u001b[49m\u001b[43m,\u001b[49m\n\u001b[0;32m   1737\u001b[0m \u001b[43m    \u001b[49m\u001b[43mmode\u001b[49m\u001b[43m,\u001b[49m\n\u001b[0;32m   1738\u001b[0m \u001b[43m    \u001b[49m\u001b[43mencoding\u001b[49m\u001b[38;5;241;43m=\u001b[39;49m\u001b[38;5;28;43mself\u001b[39;49m\u001b[38;5;241;43m.\u001b[39;49m\u001b[43moptions\u001b[49m\u001b[38;5;241;43m.\u001b[39;49m\u001b[43mget\u001b[49m\u001b[43m(\u001b[49m\u001b[38;5;124;43m\"\u001b[39;49m\u001b[38;5;124;43mencoding\u001b[39;49m\u001b[38;5;124;43m\"\u001b[39;49m\u001b[43m,\u001b[49m\u001b[43m \u001b[49m\u001b[38;5;28;43;01mNone\u001b[39;49;00m\u001b[43m)\u001b[49m\u001b[43m,\u001b[49m\n\u001b[0;32m   1739\u001b[0m \u001b[43m    \u001b[49m\u001b[43mcompression\u001b[49m\u001b[38;5;241;43m=\u001b[39;49m\u001b[38;5;28;43mself\u001b[39;49m\u001b[38;5;241;43m.\u001b[39;49m\u001b[43moptions\u001b[49m\u001b[38;5;241;43m.\u001b[39;49m\u001b[43mget\u001b[49m\u001b[43m(\u001b[49m\u001b[38;5;124;43m\"\u001b[39;49m\u001b[38;5;124;43mcompression\u001b[39;49m\u001b[38;5;124;43m\"\u001b[39;49m\u001b[43m,\u001b[49m\u001b[43m \u001b[49m\u001b[38;5;28;43;01mNone\u001b[39;49;00m\u001b[43m)\u001b[49m\u001b[43m,\u001b[49m\n\u001b[0;32m   1740\u001b[0m \u001b[43m    \u001b[49m\u001b[43mmemory_map\u001b[49m\u001b[38;5;241;43m=\u001b[39;49m\u001b[38;5;28;43mself\u001b[39;49m\u001b[38;5;241;43m.\u001b[39;49m\u001b[43moptions\u001b[49m\u001b[38;5;241;43m.\u001b[39;49m\u001b[43mget\u001b[49m\u001b[43m(\u001b[49m\u001b[38;5;124;43m\"\u001b[39;49m\u001b[38;5;124;43mmemory_map\u001b[39;49m\u001b[38;5;124;43m\"\u001b[39;49m\u001b[43m,\u001b[49m\u001b[43m \u001b[49m\u001b[38;5;28;43;01mFalse\u001b[39;49;00m\u001b[43m)\u001b[49m\u001b[43m,\u001b[49m\n\u001b[0;32m   1741\u001b[0m \u001b[43m    \u001b[49m\u001b[43mis_text\u001b[49m\u001b[38;5;241;43m=\u001b[39;49m\u001b[43mis_text\u001b[49m\u001b[43m,\u001b[49m\n\u001b[0;32m   1742\u001b[0m \u001b[43m    \u001b[49m\u001b[43merrors\u001b[49m\u001b[38;5;241;43m=\u001b[39;49m\u001b[38;5;28;43mself\u001b[39;49m\u001b[38;5;241;43m.\u001b[39;49m\u001b[43moptions\u001b[49m\u001b[38;5;241;43m.\u001b[39;49m\u001b[43mget\u001b[49m\u001b[43m(\u001b[49m\u001b[38;5;124;43m\"\u001b[39;49m\u001b[38;5;124;43mencoding_errors\u001b[39;49m\u001b[38;5;124;43m\"\u001b[39;49m\u001b[43m,\u001b[49m\u001b[43m \u001b[49m\u001b[38;5;124;43m\"\u001b[39;49m\u001b[38;5;124;43mstrict\u001b[39;49m\u001b[38;5;124;43m\"\u001b[39;49m\u001b[43m)\u001b[49m\u001b[43m,\u001b[49m\n\u001b[0;32m   1743\u001b[0m \u001b[43m    \u001b[49m\u001b[43mstorage_options\u001b[49m\u001b[38;5;241;43m=\u001b[39;49m\u001b[38;5;28;43mself\u001b[39;49m\u001b[38;5;241;43m.\u001b[39;49m\u001b[43moptions\u001b[49m\u001b[38;5;241;43m.\u001b[39;49m\u001b[43mget\u001b[49m\u001b[43m(\u001b[49m\u001b[38;5;124;43m\"\u001b[39;49m\u001b[38;5;124;43mstorage_options\u001b[39;49m\u001b[38;5;124;43m\"\u001b[39;49m\u001b[43m,\u001b[49m\u001b[43m \u001b[49m\u001b[38;5;28;43;01mNone\u001b[39;49;00m\u001b[43m)\u001b[49m\u001b[43m,\u001b[49m\n\u001b[0;32m   1744\u001b[0m \u001b[43m\u001b[49m\u001b[43m)\u001b[49m\n\u001b[0;32m   1745\u001b[0m \u001b[38;5;28;01massert\u001b[39;00m \u001b[38;5;28mself\u001b[39m\u001b[38;5;241m.\u001b[39mhandles \u001b[38;5;129;01mis\u001b[39;00m \u001b[38;5;129;01mnot\u001b[39;00m \u001b[38;5;28;01mNone\u001b[39;00m\n\u001b[0;32m   1746\u001b[0m f \u001b[38;5;241m=\u001b[39m \u001b[38;5;28mself\u001b[39m\u001b[38;5;241m.\u001b[39mhandles\u001b[38;5;241m.\u001b[39mhandle\n",
      "File \u001b[1;32mc:\\Users\\selsabrouty\\AppData\\Local\\anaconda3\\envs\\new-tilt-nlp-preprocessing\\lib\\site-packages\\pandas\\io\\common.py:856\u001b[0m, in \u001b[0;36mget_handle\u001b[1;34m(path_or_buf, mode, encoding, compression, memory_map, is_text, errors, storage_options)\u001b[0m\n\u001b[0;32m    851\u001b[0m \u001b[38;5;28;01melif\u001b[39;00m \u001b[38;5;28misinstance\u001b[39m(handle, \u001b[38;5;28mstr\u001b[39m):\n\u001b[0;32m    852\u001b[0m     \u001b[38;5;66;03m# Check whether the filename is to be opened in binary mode.\u001b[39;00m\n\u001b[0;32m    853\u001b[0m     \u001b[38;5;66;03m# Binary mode does not support 'encoding' and 'newline'.\u001b[39;00m\n\u001b[0;32m    854\u001b[0m     \u001b[38;5;28;01mif\u001b[39;00m ioargs\u001b[38;5;241m.\u001b[39mencoding \u001b[38;5;129;01mand\u001b[39;00m \u001b[38;5;124m\"\u001b[39m\u001b[38;5;124mb\u001b[39m\u001b[38;5;124m\"\u001b[39m \u001b[38;5;129;01mnot\u001b[39;00m \u001b[38;5;129;01min\u001b[39;00m ioargs\u001b[38;5;241m.\u001b[39mmode:\n\u001b[0;32m    855\u001b[0m         \u001b[38;5;66;03m# Encoding\u001b[39;00m\n\u001b[1;32m--> 856\u001b[0m         handle \u001b[38;5;241m=\u001b[39m \u001b[38;5;28;43mopen\u001b[39;49m\u001b[43m(\u001b[49m\n\u001b[0;32m    857\u001b[0m \u001b[43m            \u001b[49m\u001b[43mhandle\u001b[49m\u001b[43m,\u001b[49m\n\u001b[0;32m    858\u001b[0m \u001b[43m            \u001b[49m\u001b[43mioargs\u001b[49m\u001b[38;5;241;43m.\u001b[39;49m\u001b[43mmode\u001b[49m\u001b[43m,\u001b[49m\n\u001b[0;32m    859\u001b[0m \u001b[43m            \u001b[49m\u001b[43mencoding\u001b[49m\u001b[38;5;241;43m=\u001b[39;49m\u001b[43mioargs\u001b[49m\u001b[38;5;241;43m.\u001b[39;49m\u001b[43mencoding\u001b[49m\u001b[43m,\u001b[49m\n\u001b[0;32m    860\u001b[0m \u001b[43m            \u001b[49m\u001b[43merrors\u001b[49m\u001b[38;5;241;43m=\u001b[39;49m\u001b[43merrors\u001b[49m\u001b[43m,\u001b[49m\n\u001b[0;32m    861\u001b[0m \u001b[43m            \u001b[49m\u001b[43mnewline\u001b[49m\u001b[38;5;241;43m=\u001b[39;49m\u001b[38;5;124;43m\"\u001b[39;49m\u001b[38;5;124;43m\"\u001b[39;49m\u001b[43m,\u001b[49m\n\u001b[0;32m    862\u001b[0m \u001b[43m        \u001b[49m\u001b[43m)\u001b[49m\n\u001b[0;32m    863\u001b[0m     \u001b[38;5;28;01melse\u001b[39;00m:\n\u001b[0;32m    864\u001b[0m         \u001b[38;5;66;03m# Binary mode\u001b[39;00m\n\u001b[0;32m    865\u001b[0m         handle \u001b[38;5;241m=\u001b[39m \u001b[38;5;28mopen\u001b[39m(handle, ioargs\u001b[38;5;241m.\u001b[39mmode)\n",
      "\u001b[1;31mFileNotFoundError\u001b[0m: [Errno 2] No such file or directory: '../../data/example_data/output/italy_data/italy_deduped.csv'"
     ]
    }
   ],
   "source": [
    "record_linkage(italy_deduped_file, ep_catalogue, italy_output_file, rl_settings_file, rl_training_file)"
   ]
  }
 ],
 "metadata": {
  "kernelspec": {
   "display_name": "Python 3",
   "language": "python",
   "name": "python3"
  },
  "language_info": {
   "codemirror_mode": {
    "name": "ipython",
    "version": 3
   },
   "file_extension": ".py",
   "mimetype": "text/x-python",
   "name": "python",
   "nbconvert_exporter": "python",
   "pygments_lexer": "ipython3",
   "version": "3.10.13"
  }
 },
 "nbformat": 4,
 "nbformat_minor": 2
}
