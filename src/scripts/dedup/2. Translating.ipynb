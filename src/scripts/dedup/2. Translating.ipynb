{
 "cells": [
  {
   "cell_type": "markdown",
   "metadata": {
    "application/vnd.databricks.v1+cell": {
     "cellMetadata": {
      "byteLimit": 2048000,
      "rowLimit": 10000
     },
     "inputWidgets": {},
     "nuid": "a71753e7-6deb-45c3-a226-af7cdec0e394",
     "showTitle": false,
     "title": ""
    }
   },
   "source": [
    "# 2. Translate the input products"
   ]
  },
  {
   "cell_type": "markdown",
   "metadata": {
    "application/vnd.databricks.v1+cell": {
     "cellMetadata": {
      "byteLimit": 2048000,
      "rowLimit": 10000
     },
     "inputWidgets": {},
     "nuid": "2447feb3-753a-4e72-a72e-0bf689a7cac8",
     "showTitle": false,
     "title": ""
    }
   },
   "source": [
    "## 2.1 Import the required libaries"
   ]
  },
  {
   "cell_type": "code",
   "execution_count": 1,
   "metadata": {
    "application/vnd.databricks.v1+cell": {
     "cellMetadata": {
      "byteLimit": 2048000,
      "rowLimit": 10000
     },
     "inputWidgets": {},
     "nuid": "922c33d3-4f90-4c1d-b25d-37955e860fc1",
     "showTitle": false,
     "title": ""
    }
   },
   "outputs": [
    {
     "name": "stdout",
     "output_type": "stream",
     "text": [
      "WARNING:tensorflow:From c:\\Users\\selsabrouty\\AppData\\Local\\anaconda3\\envs\\new-tilt-nlp-preprocessing\\lib\\site-packages\\keras\\src\\losses.py:2976: The name tf.losses.sparse_softmax_cross_entropy is deprecated. Please use tf.compat.v1.losses.sparse_softmax_cross_entropy instead.\n",
      "\n"
     ]
    }
   ],
   "source": [
    "from deep_translator import GoogleTranslator # this package enables the translation of text into another language\n",
    "from googletrans import Translator # this package enables the translation of text into another language\n",
    "from transformers import pipeline\n",
    "from langdetect import detect_langs, DetectorFactory\n",
    "from textblob import TextBlob\n",
    "import spacy\n",
    "import pandas as pd\n",
    "import numpy as np\n",
    "from tqdm import tqdm\n",
    "tqdm.pandas()\n",
    "\n",
    "nlp = spacy.load('en_core_web_sm') \n",
    "language_detector = pipeline(\"text-classification\", model=\"papluca/xlm-roberta-base-language-detection\") # this model is 1.1 gigabyte so it will take around 5 mins to download it\n",
    "translator = Translator()\n",
    "\n",
    "DetectorFactory.seed = 0"
   ]
  },
  {
   "cell_type": "markdown",
   "metadata": {
    "application/vnd.databricks.v1+cell": {
     "cellMetadata": {
      "byteLimit": 2048000,
      "rowLimit": 10000
     },
     "inputWidgets": {},
     "nuid": "b9cdd112-f4a3-48b5-86a4-3b092c7c31cf",
     "showTitle": false,
     "title": ""
    }
   },
   "source": [
    "## 2.2 Load in the dataset"
   ]
  },
  {
   "cell_type": "markdown",
   "metadata": {},
   "source": [
    "### Base data"
   ]
  },
  {
   "cell_type": "code",
   "execution_count": null,
   "metadata": {
    "application/vnd.databricks.v1+cell": {
     "cellMetadata": {
      "byteLimit": 2048000,
      "rowLimit": 10000
     },
     "inputWidgets": {},
     "nuid": "8d3a5cf7-8184-4659-8799-18ac5e24cd85",
     "showTitle": false,
     "title": ""
    }
   },
   "outputs": [],
   "source": [
    "# Obtain the file from the Azure Cloud Container\n",
    "file_location = \"../../data/example_data/output/corrected_products.csv\"\n",
    "\n",
    "# Read the data into a DataFrame\n",
    "corrected_df = pd.read_csv(file_location).drop(columns=['Unnamed: 0', 'products_and_services'])\n",
    "\n",
    "# Display the dataframe\n",
    "display(corrected_df)"
   ]
  },
  {
   "cell_type": "markdown",
   "metadata": {},
   "source": [
    "### new Italy data"
   ]
  },
  {
   "cell_type": "code",
   "execution_count": 8,
   "metadata": {},
   "outputs": [
    {
     "data": {
      "text/html": [
       "<div>\n",
       "<style scoped>\n",
       "    .dataframe tbody tr th:only-of-type {\n",
       "        vertical-align: middle;\n",
       "    }\n",
       "\n",
       "    .dataframe tbody tr th {\n",
       "        vertical-align: top;\n",
       "    }\n",
       "\n",
       "    .dataframe thead th {\n",
       "        text-align: right;\n",
       "    }\n",
       "</style>\n",
       "<table border=\"1\" class=\"dataframe\">\n",
       "  <thead>\n",
       "    <tr style=\"text-align: right;\">\n",
       "      <th></th>\n",
       "      <th>products_and_services</th>\n",
       "      <th>products_id</th>\n",
       "      <th>language (ISO-code)</th>\n",
       "      <th>typo_corrected</th>\n",
       "    </tr>\n",
       "  </thead>\n",
       "  <tbody>\n",
       "    <tr>\n",
       "      <th>0</th>\n",
       "      <td>agriculture - machines &amp; equipment</td>\n",
       "      <td>941c038a-3547-4985-835d-6c82a56090f8</td>\n",
       "      <td>fr</td>\n",
       "      <td>agriculture - machines &amp; equipment</td>\n",
       "    </tr>\n",
       "    <tr>\n",
       "      <th>1</th>\n",
       "      <td>agricultural systems and equipment</td>\n",
       "      <td>98d6e96c-3d4f-4d33-940e-3444d9f725c8</td>\n",
       "      <td>ca</td>\n",
       "      <td>agricultural systems and equipment</td>\n",
       "    </tr>\n",
       "    <tr>\n",
       "      <th>2</th>\n",
       "      <td>natural fertilizers</td>\n",
       "      <td>77f15f2e-24e8-473a-9944-a9a84d372d91</td>\n",
       "      <td>ro</td>\n",
       "      <td>natural fertilizers</td>\n",
       "    </tr>\n",
       "    <tr>\n",
       "      <th>3</th>\n",
       "      <td>organic manures</td>\n",
       "      <td>e7a9f076-34c9-4e31-9402-2bd81e35d62e</td>\n",
       "      <td>ro</td>\n",
       "      <td>organic manures</td>\n",
       "    </tr>\n",
       "    <tr>\n",
       "      <th>4</th>\n",
       "      <td>insecticides for agriculture</td>\n",
       "      <td>d4bee171-af70-47ad-8c7b-a9e1164e9243</td>\n",
       "      <td>ca</td>\n",
       "      <td>insecticides for agriculture</td>\n",
       "    </tr>\n",
       "    <tr>\n",
       "      <th>...</th>\n",
       "      <td>...</td>\n",
       "      <td>...</td>\n",
       "      <td>...</td>\n",
       "      <td>...</td>\n",
       "    </tr>\n",
       "    <tr>\n",
       "      <th>14572</th>\n",
       "      <td>breathable and mould resistant plastic coverings</td>\n",
       "      <td>50009802-62cf-41ba-bec1-c7b91b5fa5e7</td>\n",
       "      <td>en</td>\n",
       "      <td>breathable and mould resistant plastic coverings</td>\n",
       "    </tr>\n",
       "    <tr>\n",
       "      <th>14573</th>\n",
       "      <td>articles for painting</td>\n",
       "      <td>35bcd44c-b231-4540-9c60-7a425fa63251</td>\n",
       "      <td>en</td>\n",
       "      <td>articles for painting</td>\n",
       "    </tr>\n",
       "    <tr>\n",
       "      <th>14574</th>\n",
       "      <td>wall-coverings, fabric</td>\n",
       "      <td>9c4c22f5-6c84-402e-91d3-b317896e8650</td>\n",
       "      <td>en</td>\n",
       "      <td>wall-coverings, fabric</td>\n",
       "    </tr>\n",
       "    <tr>\n",
       "      <th>14575</th>\n",
       "      <td>wall-coverings, fabric</td>\n",
       "      <td>a3664d9f-c777-4193-8707-417b633d9a4e</td>\n",
       "      <td>en</td>\n",
       "      <td>wall-coverings, fabric</td>\n",
       "    </tr>\n",
       "    <tr>\n",
       "      <th>14576</th>\n",
       "      <td>flame-resistant wallpaper</td>\n",
       "      <td>4f532653-e539-425f-ad9b-35f79d9e02c9</td>\n",
       "      <td>en</td>\n",
       "      <td>flame-resistant wallpaper</td>\n",
       "    </tr>\n",
       "  </tbody>\n",
       "</table>\n",
       "<p>14577 rows × 4 columns</p>\n",
       "</div>"
      ],
      "text/plain": [
       "                                   products_and_services  \\\n",
       "0                    agriculture - machines & equipment    \n",
       "1                    agricultural systems and equipment    \n",
       "2                                   natural fertilizers    \n",
       "3                                       organic manures    \n",
       "4                           insecticides for agriculture   \n",
       "...                                                  ...   \n",
       "14572   breathable and mould resistant plastic coverings   \n",
       "14573                             articles for painting    \n",
       "14574                             wall-coverings, fabric   \n",
       "14575                            wall-coverings, fabric    \n",
       "14576                          flame-resistant wallpaper   \n",
       "\n",
       "                                products_id language (ISO-code)  \\\n",
       "0      941c038a-3547-4985-835d-6c82a56090f8                  fr   \n",
       "1      98d6e96c-3d4f-4d33-940e-3444d9f725c8                  ca   \n",
       "2      77f15f2e-24e8-473a-9944-a9a84d372d91                  ro   \n",
       "3      e7a9f076-34c9-4e31-9402-2bd81e35d62e                  ro   \n",
       "4      d4bee171-af70-47ad-8c7b-a9e1164e9243                  ca   \n",
       "...                                     ...                 ...   \n",
       "14572  50009802-62cf-41ba-bec1-c7b91b5fa5e7                  en   \n",
       "14573  35bcd44c-b231-4540-9c60-7a425fa63251                  en   \n",
       "14574  9c4c22f5-6c84-402e-91d3-b317896e8650                  en   \n",
       "14575  a3664d9f-c777-4193-8707-417b633d9a4e                  en   \n",
       "14576  4f532653-e539-425f-ad9b-35f79d9e02c9                  en   \n",
       "\n",
       "                                          typo_corrected  \n",
       "0                    agriculture - machines & equipment   \n",
       "1                    agricultural systems and equipment   \n",
       "2                                   natural fertilizers   \n",
       "3                                       organic manures   \n",
       "4                           insecticides for agriculture  \n",
       "...                                                  ...  \n",
       "14572   breathable and mould resistant plastic coverings  \n",
       "14573                             articles for painting   \n",
       "14574                             wall-coverings, fabric  \n",
       "14575                            wall-coverings, fabric   \n",
       "14576                          flame-resistant wallpaper  \n",
       "\n",
       "[14577 rows x 4 columns]"
      ]
     },
     "metadata": {},
     "output_type": "display_data"
    }
   ],
   "source": [
    "# Obtain the directory of the new Italy data\n",
    "italy_tilt_data_location = \"../../data/example_data/output/italy_data/italy_typo_corrected_products.csv\"\n",
    "\n",
    "# Read the data into a DataFrame\n",
    "italy_tilt_data = pd.read_csv(italy_tilt_data_location).drop(columns='Unnamed: 0')\n",
    "\n",
    "# Display the dataframe\n",
    "display(italy_tilt_data)"
   ]
  },
  {
   "cell_type": "markdown",
   "metadata": {},
   "source": [
    "## 2.3 Translate dataframe"
   ]
  },
  {
   "cell_type": "markdown",
   "metadata": {},
   "source": [
    "### Helper functions"
   ]
  },
  {
   "cell_type": "code",
   "execution_count": 9,
   "metadata": {},
   "outputs": [],
   "source": [
    "def translate_Google(text):\n",
    "    \"\"\"\n",
    "    This function translates the text into English using Google Translator\n",
    "    \"\"\"\n",
    "    try:\n",
    "        translated = translator.translate(text).text\n",
    "        return translated\n",
    "    except:\n",
    "        return np.nan"
   ]
  },
  {
   "cell_type": "markdown",
   "metadata": {},
   "source": [
    "### Google translator module"
   ]
  },
  {
   "cell_type": "code",
   "execution_count": 25,
   "metadata": {},
   "outputs": [],
   "source": [
    "def translate_df(df):\n",
    "    \"\"\"\n",
    "    This function translates the dataframe into English using Google Translator\n",
    "    \"\"\"\n",
    "    # then take subset of english texts\n",
    "    print(\"Taking subset of non-english texts...\")\n",
    "    non_english_df = df[df[\"language (ISO-code)\"] != \"en\"]\n",
    "    # exclude enlgish texts from the original df\n",
    "    df = df[df[\"language (ISO-code)\"] == \"en\"]\n",
    "\n",
    "    # apply typo correction to english texts\n",
    "    print(\"Applying translation...\")\n",
    "    non_english_df = non_english_df.copy()\n",
    "    non_english_df.loc[:, 'translated_text'] = non_english_df['typo_corrected'].progress_apply(translate_Google)\n",
    "\n",
    "    # merge the corrected english texts with the original df\n",
    "    print(\"Merging the corrected english texts with the original df...\")\n",
    "    df = pd.concat([df, non_english_df], ignore_index=True)\n",
    "    \n",
    "    # replace empty values in translated column with the typo corrected text\n",
    "    df[\"translated_text\"].fillna(df[\"typo_corrected\"], inplace=True)\n",
    "    translated_df = df.copy().drop(columns=[\"typo_corrected\", \"language (ISO-code)\", \"products_and_services\"]).rename(columns={\"translated_text\": \"products_and_services\"})\n",
    "    return translated_df"
   ]
  },
  {
   "cell_type": "markdown",
   "metadata": {},
   "source": [
    "### Base Data"
   ]
  },
  {
   "cell_type": "code",
   "execution_count": null,
   "metadata": {},
   "outputs": [],
   "source": []
  },
  {
   "cell_type": "markdown",
   "metadata": {},
   "source": [
    "### new Italy Data"
   ]
  },
  {
   "cell_type": "code",
   "execution_count": 26,
   "metadata": {},
   "outputs": [
    {
     "name": "stdout",
     "output_type": "stream",
     "text": [
      "Taking subset of non-english texts...\n",
      "Applying translation...\n"
     ]
    },
    {
     "name": "stderr",
     "output_type": "stream",
     "text": [
      "100%|██████████| 5852/5852 [02:38<00:00, 36.85it/s]"
     ]
    },
    {
     "name": "stdout",
     "output_type": "stream",
     "text": [
      "Merging the corrected english texts with the original df...\n"
     ]
    },
    {
     "name": "stderr",
     "output_type": "stream",
     "text": [
      "\n"
     ]
    }
   ],
   "source": [
    "italy_translated_df = translate_df(italy_tilt_data)"
   ]
  },
  {
   "cell_type": "code",
   "execution_count": 29,
   "metadata": {
    "application/vnd.databricks.v1+cell": {
     "cellMetadata": {
      "byteLimit": 2048000,
      "rowLimit": 10000
     },
     "inputWidgets": {},
     "nuid": "b858cbb2-23f9-4249-9a52-dc3d6a281d89",
     "showTitle": false,
     "title": ""
    }
   },
   "outputs": [],
   "source": [
    "output_path_translated = \"../../data/example_data/output/italy_data/italy_translated_products.csv\"\n",
    "italy_translated_df.to_csv(output_path_translated)"
   ]
  }
 ],
 "metadata": {
  "application/vnd.databricks.v1+notebook": {
   "dashboards": [],
   "language": "python",
   "notebookMetadata": {
    "pythonIndentUnit": 4
   },
   "notebookName": "1. Translate",
   "widgets": {}
  },
  "kernelspec": {
   "display_name": "Python 3",
   "language": "python",
   "name": "python3"
  },
  "language_info": {
   "codemirror_mode": {
    "name": "ipython",
    "version": 3
   },
   "file_extension": ".py",
   "mimetype": "text/x-python",
   "name": "python",
   "nbconvert_exporter": "python",
   "pygments_lexer": "ipython3",
   "version": "3.10.13"
  }
 },
 "nbformat": 4,
 "nbformat_minor": 0
}
