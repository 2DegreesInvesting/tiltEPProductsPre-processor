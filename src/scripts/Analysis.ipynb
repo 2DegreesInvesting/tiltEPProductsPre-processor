{
 "cells": [
  {
   "cell_type": "markdown",
   "metadata": {},
   "source": [
    "# <b>Analysis</b>\n",
    "Prior to processing the data, a brief analysis is conducted to get a better understanding of the data that we are working with. This analysis allows us to assess the quality of the data (bad - average - good) and ultimately determine how the subsequent steps in the processing should be shaped"
   ]
  },
  {
   "cell_type": "markdown",
   "metadata": {},
   "source": [
    "## Load necessary libraries"
   ]
  },
  {
   "cell_type": "code",
   "execution_count": 6,
   "metadata": {},
   "outputs": [],
   "source": [
    "import pandas as pd\n",
    "import numpy as np\n",
    "import seaborn as sns\n",
    "import matplotlib.pyplot as plt"
   ]
  },
  {
   "cell_type": "markdown",
   "metadata": {},
   "source": [
    "## Load in raw data"
   ]
  },
  {
   "cell_type": "markdown",
   "metadata": {},
   "source": [
    "### Company based products and services\n",
    "This data contains the products and services derived from the scraped companies data originating from Austria, France, Germany, Netherlands, and Spain"
   ]
  },
  {
   "cell_type": "code",
   "execution_count": 7,
   "metadata": {},
   "outputs": [
    {
     "data": {
      "text/html": [
       "<div>\n",
       "<style scoped>\n",
       "    .dataframe tbody tr th:only-of-type {\n",
       "        vertical-align: middle;\n",
       "    }\n",
       "\n",
       "    .dataframe tbody tr th {\n",
       "        vertical-align: top;\n",
       "    }\n",
       "\n",
       "    .dataframe thead th {\n",
       "        text-align: right;\n",
       "    }\n",
       "</style>\n",
       "<table border=\"1\" class=\"dataframe\">\n",
       "  <thead>\n",
       "    <tr style=\"text-align: right;\">\n",
       "      <th></th>\n",
       "      <th>products_id</th>\n",
       "      <th>products_and_services</th>\n",
       "    </tr>\n",
       "  </thead>\n",
       "  <tbody>\n",
       "    <tr>\n",
       "      <th>0</th>\n",
       "      <td>d379f2ced32e7806893e4232fdbd0f9544146ae8</td>\n",
       "      <td>steels and metals - forming and cutting</td>\n",
       "    </tr>\n",
       "    <tr>\n",
       "      <th>1</th>\n",
       "      <td>20d8631bd54d2c718a32a8cf80bc910b0eab0648</td>\n",
       "      <td>steels and metals - machining</td>\n",
       "    </tr>\n",
       "    <tr>\n",
       "      <th>2</th>\n",
       "      <td>6b91c2ca1f831dcafcc4c2a889b52f7e43d7e8d0</td>\n",
       "      <td>steels and metals - surface treatment and coating</td>\n",
       "    </tr>\n",
       "    <tr>\n",
       "      <th>3</th>\n",
       "      <td>60f41e1221ace9420db85d4107fab3109a1eba58</td>\n",
       "      <td>hand tools, non-power</td>\n",
       "    </tr>\n",
       "    <tr>\n",
       "      <th>4</th>\n",
       "      <td>3437f6e23dd6dd939e30657a2aeffd8e2f89d7e9</td>\n",
       "      <td>portable power tools</td>\n",
       "    </tr>\n",
       "    <tr>\n",
       "      <th>...</th>\n",
       "      <td>...</td>\n",
       "      <td>...</td>\n",
       "    </tr>\n",
       "    <tr>\n",
       "      <th>31897</th>\n",
       "      <td>105a7acab4c5bf9f08cef379da90cb16125bafdf</td>\n",
       "      <td>flue-gas desulfurization systems</td>\n",
       "    </tr>\n",
       "    <tr>\n",
       "      <th>31898</th>\n",
       "      <td>b7ba73350079156ebcce1da98aaf767ccb0cd16c</td>\n",
       "      <td>chopping boards</td>\n",
       "    </tr>\n",
       "    <tr>\n",
       "      <th>31899</th>\n",
       "      <td>fe02d46dae88e57a097b3735b874e13d917e4a8e</td>\n",
       "      <td>logistics transports</td>\n",
       "    </tr>\n",
       "    <tr>\n",
       "      <th>31900</th>\n",
       "      <td>4d221a2a9a7a78ff0a104bdc3fbf9352c4ff4a55</td>\n",
       "      <td>natural gypsum plaster</td>\n",
       "    </tr>\n",
       "    <tr>\n",
       "      <th>31901</th>\n",
       "      <td>5454aaba0e7334a7db40c568decbd64eecbb1be3</td>\n",
       "      <td>stair climbers</td>\n",
       "    </tr>\n",
       "  </tbody>\n",
       "</table>\n",
       "<p>31902 rows × 2 columns</p>\n",
       "</div>"
      ],
      "text/plain": [
       "                                    products_id  \\\n",
       "0      d379f2ced32e7806893e4232fdbd0f9544146ae8   \n",
       "1      20d8631bd54d2c718a32a8cf80bc910b0eab0648   \n",
       "2      6b91c2ca1f831dcafcc4c2a889b52f7e43d7e8d0   \n",
       "3      60f41e1221ace9420db85d4107fab3109a1eba58   \n",
       "4      3437f6e23dd6dd939e30657a2aeffd8e2f89d7e9   \n",
       "...                                         ...   \n",
       "31897  105a7acab4c5bf9f08cef379da90cb16125bafdf   \n",
       "31898  b7ba73350079156ebcce1da98aaf767ccb0cd16c   \n",
       "31899  fe02d46dae88e57a097b3735b874e13d917e4a8e   \n",
       "31900  4d221a2a9a7a78ff0a104bdc3fbf9352c4ff4a55   \n",
       "31901  5454aaba0e7334a7db40c568decbd64eecbb1be3   \n",
       "\n",
       "                                   products_and_services  \n",
       "0                steels and metals - forming and cutting  \n",
       "1                          steels and metals - machining  \n",
       "2      steels and metals - surface treatment and coating  \n",
       "3                                  hand tools, non-power  \n",
       "4                                   portable power tools  \n",
       "...                                                  ...  \n",
       "31897                   flue-gas desulfurization systems  \n",
       "31898                                    chopping boards  \n",
       "31899                               logistics transports  \n",
       "31900                             natural gypsum plaster  \n",
       "31901                                     stair climbers  \n",
       "\n",
       "[31902 rows x 2 columns]"
      ]
     },
     "metadata": {},
     "output_type": "display_data"
    }
   ],
   "source": [
    "# Determine the location of the dataframe containing the company based products and services\n",
    "company_based_p_and_s_location = \"../data/example_data/output/base_data/products_and_services_processed.csv\"\n",
    "\n",
    "# Read the dataframe\n",
    "company_based_p_and_s  = pd.read_csv(company_based_p_and_s_location)\n",
    "\n",
    "# Display dataframe\n",
    "display(company_based_p_and_s)"
   ]
  },
  {
   "cell_type": "markdown",
   "metadata": {},
   "source": [
    "### EuroPages products and services catalogue\n",
    "This data contains the products and services directly scraped from the EP activities catalogue"
   ]
  },
  {
   "cell_type": "code",
   "execution_count": 8,
   "metadata": {},
   "outputs": [
    {
     "data": {
      "text/html": [
       "<div>\n",
       "<style scoped>\n",
       "    .dataframe tbody tr th:only-of-type {\n",
       "        vertical-align: middle;\n",
       "    }\n",
       "\n",
       "    .dataframe tbody tr th {\n",
       "        vertical-align: top;\n",
       "    }\n",
       "\n",
       "    .dataframe thead th {\n",
       "        text-align: right;\n",
       "    }\n",
       "</style>\n",
       "<table border=\"1\" class=\"dataframe\">\n",
       "  <thead>\n",
       "    <tr style=\"text-align: right;\">\n",
       "      <th></th>\n",
       "      <th>products_and_services</th>\n",
       "      <th>products_id</th>\n",
       "      <th>ID</th>\n",
       "    </tr>\n",
       "  </thead>\n",
       "  <tbody>\n",
       "    <tr>\n",
       "      <th>0</th>\n",
       "      <td>a0 size photocopy</td>\n",
       "      <td>d767925b2b31998720be47150c317b8b</td>\n",
       "      <td>1</td>\n",
       "    </tr>\n",
       "    <tr>\n",
       "      <th>1</th>\n",
       "      <td>a4 self-adhesive sheets</td>\n",
       "      <td>8b14539d24b4e721f7b0a2f4355e2698</td>\n",
       "      <td>2</td>\n",
       "    </tr>\n",
       "    <tr>\n",
       "      <th>2</th>\n",
       "      <td>abamectin</td>\n",
       "      <td>3f9bdd95cac6914274f80462954d0c04</td>\n",
       "      <td>3</td>\n",
       "    </tr>\n",
       "    <tr>\n",
       "      <th>3</th>\n",
       "      <td>abattoir with agreed store</td>\n",
       "      <td>e4ddbcf93fb7a754239358b82e0892de</td>\n",
       "      <td>4</td>\n",
       "    </tr>\n",
       "    <tr>\n",
       "      <th>4</th>\n",
       "      <td>abattoirs</td>\n",
       "      <td>0c43e8a2b18ffba9573fd91343865dca</td>\n",
       "      <td>5</td>\n",
       "    </tr>\n",
       "    <tr>\n",
       "      <th>...</th>\n",
       "      <td>...</td>\n",
       "      <td>...</td>\n",
       "      <td>...</td>\n",
       "    </tr>\n",
       "    <tr>\n",
       "      <th>42449</th>\n",
       "      <td>zootechnical feed</td>\n",
       "      <td>31038b5276adc87194b0f647ae36abf8</td>\n",
       "      <td>42450</td>\n",
       "    </tr>\n",
       "    <tr>\n",
       "      <th>42450</th>\n",
       "      <td>zootechnical foods</td>\n",
       "      <td>5306a7f02167e79365c7626ac48b4ff5</td>\n",
       "      <td>42451</td>\n",
       "    </tr>\n",
       "    <tr>\n",
       "      <th>42451</th>\n",
       "      <td>zootechnical integrators</td>\n",
       "      <td>62f4c57406cd9fb1190b67ea25cb48ce</td>\n",
       "      <td>42452</td>\n",
       "    </tr>\n",
       "    <tr>\n",
       "      <th>42452</th>\n",
       "      <td>zootechnics - equipment</td>\n",
       "      <td>3d86fe5ed83d4c4fe2304a311967a39e</td>\n",
       "      <td>42453</td>\n",
       "    </tr>\n",
       "    <tr>\n",
       "      <th>42453</th>\n",
       "      <td>zootechnics - laboratories</td>\n",
       "      <td>b2023be31fd90aacca2be78570178d8d</td>\n",
       "      <td>42454</td>\n",
       "    </tr>\n",
       "  </tbody>\n",
       "</table>\n",
       "<p>42454 rows × 3 columns</p>\n",
       "</div>"
      ],
      "text/plain": [
       "            products_and_services                       products_id     ID\n",
       "0               a0 size photocopy  d767925b2b31998720be47150c317b8b      1\n",
       "1         a4 self-adhesive sheets  8b14539d24b4e721f7b0a2f4355e2698      2\n",
       "2                       abamectin  3f9bdd95cac6914274f80462954d0c04      3\n",
       "3      abattoir with agreed store  e4ddbcf93fb7a754239358b82e0892de      4\n",
       "4                       abattoirs  0c43e8a2b18ffba9573fd91343865dca      5\n",
       "...                           ...                               ...    ...\n",
       "42449           zootechnical feed  31038b5276adc87194b0f647ae36abf8  42450\n",
       "42450          zootechnical foods  5306a7f02167e79365c7626ac48b4ff5  42451\n",
       "42451    zootechnical integrators  62f4c57406cd9fb1190b67ea25cb48ce  42452\n",
       "42452     zootechnics - equipment  3d86fe5ed83d4c4fe2304a311967a39e  42453\n",
       "42453  zootechnics - laboratories  b2023be31fd90aacca2be78570178d8d  42454\n",
       "\n",
       "[42454 rows x 3 columns]"
      ]
     },
     "metadata": {},
     "output_type": "display_data"
    }
   ],
   "source": [
    "# Determine the location of the dataframe containing the company based products and services\n",
    "europages_activities_catalogue_location = \"../data/example_data/input/scraped_EP_products_catalogue.csv\"\n",
    "\n",
    "# Read the dataframe\n",
    "europages_activities_catalogue  = pd.read_csv(europages_activities_catalogue_location)\n",
    "\n",
    "# Display dataframe\n",
    "display(europages_activities_catalogue)"
   ]
  },
  {
   "cell_type": "markdown",
   "metadata": {},
   "source": [
    "### new Italy Data"
   ]
  },
  {
   "cell_type": "code",
   "execution_count": 10,
   "metadata": {},
   "outputs": [
    {
     "data": {
      "text/html": [
       "<div>\n",
       "<style scoped>\n",
       "    .dataframe tbody tr th:only-of-type {\n",
       "        vertical-align: middle;\n",
       "    }\n",
       "\n",
       "    .dataframe tbody tr th {\n",
       "        vertical-align: top;\n",
       "    }\n",
       "\n",
       "    .dataframe thead th {\n",
       "        text-align: right;\n",
       "    }\n",
       "</style>\n",
       "<table border=\"1\" class=\"dataframe\">\n",
       "  <thead>\n",
       "    <tr style=\"text-align: right;\">\n",
       "      <th></th>\n",
       "      <th>products_and_services</th>\n",
       "      <th>products_id</th>\n",
       "    </tr>\n",
       "  </thead>\n",
       "  <tbody>\n",
       "    <tr>\n",
       "      <th>0</th>\n",
       "      <td>organic farming</td>\n",
       "      <td>996c2256-502c-4821-bd87-b822405a10eb</td>\n",
       "    </tr>\n",
       "    <tr>\n",
       "      <th>1</th>\n",
       "      <td>crop services</td>\n",
       "      <td>c35b0904-4747-4038-a0c7-d391af1f944e</td>\n",
       "    </tr>\n",
       "    <tr>\n",
       "      <th>2</th>\n",
       "      <td>agriculture - machines &amp; equipment</td>\n",
       "      <td>941c038a-3547-4985-835d-6c82a56090f8</td>\n",
       "    </tr>\n",
       "    <tr>\n",
       "      <th>3</th>\n",
       "      <td>agricultural systems and equipment</td>\n",
       "      <td>98d6e96c-3d4f-4d33-940e-3444d9f725c8</td>\n",
       "    </tr>\n",
       "    <tr>\n",
       "      <th>4</th>\n",
       "      <td>organic fertilizers</td>\n",
       "      <td>546529b7-9e7b-4b9e-92d7-0c532ef6260f</td>\n",
       "    </tr>\n",
       "    <tr>\n",
       "      <th>...</th>\n",
       "      <td>...</td>\n",
       "      <td>...</td>\n",
       "    </tr>\n",
       "    <tr>\n",
       "      <th>14572</th>\n",
       "      <td>decorative paints</td>\n",
       "      <td>d87ded84-6b5d-4ef1-9cd0-5b1f4ea26910</td>\n",
       "    </tr>\n",
       "    <tr>\n",
       "      <th>14573</th>\n",
       "      <td>wall-coverings, fabric</td>\n",
       "      <td>9c4c22f5-6c84-402e-91d3-b317896e8650</td>\n",
       "    </tr>\n",
       "    <tr>\n",
       "      <th>14574</th>\n",
       "      <td>wall-coverings, fabric</td>\n",
       "      <td>a3664d9f-c777-4193-8707-417b633d9a4e</td>\n",
       "    </tr>\n",
       "    <tr>\n",
       "      <th>14575</th>\n",
       "      <td>carpet</td>\n",
       "      <td>f78e7f1a-8fe1-4346-b487-a54d9fa94a38</td>\n",
       "    </tr>\n",
       "    <tr>\n",
       "      <th>14576</th>\n",
       "      <td>flame-resistant wallpaper</td>\n",
       "      <td>4f532653-e539-425f-ad9b-35f79d9e02c9</td>\n",
       "    </tr>\n",
       "  </tbody>\n",
       "</table>\n",
       "<p>14577 rows × 2 columns</p>\n",
       "</div>"
      ],
      "text/plain": [
       "                      products_and_services  \\\n",
       "0                          organic farming    \n",
       "1                            crop services    \n",
       "2       agriculture - machines & equipment    \n",
       "3       agricultural systems and equipment    \n",
       "4                      organic fertilizers    \n",
       "...                                     ...   \n",
       "14572                    decorative paints    \n",
       "14573                wall-coverings, fabric   \n",
       "14574               wall-coverings, fabric    \n",
       "14575                               carpet    \n",
       "14576             flame-resistant wallpaper   \n",
       "\n",
       "                                products_id  \n",
       "0      996c2256-502c-4821-bd87-b822405a10eb  \n",
       "1      c35b0904-4747-4038-a0c7-d391af1f944e  \n",
       "2      941c038a-3547-4985-835d-6c82a56090f8  \n",
       "3      98d6e96c-3d4f-4d33-940e-3444d9f725c8  \n",
       "4      546529b7-9e7b-4b9e-92d7-0c532ef6260f  \n",
       "...                                     ...  \n",
       "14572  d87ded84-6b5d-4ef1-9cd0-5b1f4ea26910  \n",
       "14573  9c4c22f5-6c84-402e-91d3-b317896e8650  \n",
       "14574  a3664d9f-c777-4193-8707-417b633d9a4e  \n",
       "14575  f78e7f1a-8fe1-4346-b487-a54d9fa94a38  \n",
       "14576  4f532653-e539-425f-ad9b-35f79d9e02c9  \n",
       "\n",
       "[14577 rows x 2 columns]"
      ]
     },
     "metadata": {},
     "output_type": "display_data"
    }
   ],
   "source": [
    "# Determine the location of the dataframe containing the new italy tilt data\n",
    "italy_tilt_data_location = \"../data/example_data/input/tilt_italy_products_and_services_unprocessed.csv\"\n",
    "\n",
    "# Read the dataframe\n",
    "italy_tilt_data  = pd.read_csv(italy_tilt_data_location)\n",
    "\n",
    "# Display dataframe\n",
    "display(italy_tilt_data)"
   ]
  },
  {
   "cell_type": "markdown",
   "metadata": {},
   "source": [
    "## Conducting analysis"
   ]
  },
  {
   "cell_type": "markdown",
   "metadata": {},
   "source": [
    "### Analysis helper functions"
   ]
  },
  {
   "cell_type": "code",
   "execution_count": 11,
   "metadata": {},
   "outputs": [],
   "source": [
    "def run_analysis(dataframe):\n",
    "    # determine the number of rows containing missing values\n",
    "    nan_rows = dataframe.isna().any(axis=1)\n",
    "    print(\"There are {} products with a missing products information\".format(nan_rows.sum()))\n",
    "    # see if there are duplicate products\n",
    "    sentences = dataframe[\"products_and_services\"].tolist()\n",
    "    unique_sentences = dataframe[\"products_and_services\"].unique()\n",
    "    print('There are {} unique products'.format(len(unique_sentences)))\n",
    "    # generate a product word length distribution plot\n",
    "    generate_plot(sentences)\n",
    "\n",
    "def generate_plot(df_sentences):\n",
    "    length_dict = dict()\n",
    "\n",
    "    # get count for each sentence length\n",
    "    for i in range(len(df_sentences)):\n",
    "        length_dict[len(df_sentences[i].split())] = length_dict.get(len(df_sentences[i].split()), 0) + 1\n",
    "\n",
    "    sns.set_style(\"whitegrid\")\n",
    "    \n",
    "    # plot boxplot\n",
    "    plot = sns.barplot(x=length_dict.keys(), y=length_dict.values())\n",
    "    \n",
    "    # add label to the axis and label to the plot\n",
    "    _ = plot.set(xlabel =\"Sentence length (word count)\", ylabel = \"Frequency\", title ='Sentence Length Distribution')"
   ]
  },
  {
   "cell_type": "code",
   "execution_count": 12,
   "metadata": {},
   "outputs": [],
   "source": [
    "def ep_catalogue_coverage(df_1, df_2):\n",
    "    # Merge the two dataframes based on the 'products_and_services' column\n",
    "    merged_df = df_1.merge(df_2, on='products_and_services', how='inner')\n",
    "\n",
    "    # Calculate the percentage of overlap\n",
    "    overlap_percentage = len(merged_df) / len(df_1) * 100\n",
    "\n",
    "    # Print the percentage of overlap\n",
    "    print(f\"The EuroPages catalogue covers the dataset for {overlap_percentage:.2f}%\")"
   ]
  },
  {
   "cell_type": "markdown",
   "metadata": {},
   "source": [
    "### Individual level"
   ]
  },
  {
   "cell_type": "markdown",
   "metadata": {},
   "source": [
    "#### Company based products and services"
   ]
  },
  {
   "cell_type": "code",
   "execution_count": 13,
   "metadata": {},
   "outputs": [
    {
     "name": "stdout",
     "output_type": "stream",
     "text": [
      "There are 0 products with a missing products information\n",
      "There are 31902 unique products\n"
     ]
    },
    {
     "data": {
      "image/png": "[encoded data removed]",
      "text/plain": [
       "<Figure size 640x480 with 1 Axes>"
      ]
     },
     "metadata": {},
     "output_type": "display_data"
    }
   ],
   "source": [
    "run_analysis(company_based_p_and_s)"
   ]
  },
  {
   "cell_type": "markdown",
   "metadata": {},
   "source": [
    "#### EuroPages products and services catalogue"
   ]
  },
  {
   "cell_type": "code",
   "execution_count": 14,
   "metadata": {},
   "outputs": [
    {
     "name": "stdout",
     "output_type": "stream",
     "text": [
      "There are 0 products with a missing products information\n",
      "There are 42454 unique products\n"
     ]
    },
    {
     "data": {
      "image/png": "[encoded data removed]",
      "text/plain": [
       "<Figure size 640x480 with 1 Axes>"
      ]
     },
     "metadata": {},
     "output_type": "display_data"
    }
   ],
   "source": [
    "run_analysis(europages_activities_catalogue)"
   ]
  },
  {
   "cell_type": "markdown",
   "metadata": {},
   "source": [
    "#### new Italy Data"
   ]
  },
  {
   "cell_type": "code",
   "execution_count": 15,
   "metadata": {},
   "outputs": [
    {
     "name": "stdout",
     "output_type": "stream",
     "text": [
      "There are 0 products with a missing products information\n",
      "There are 14577 unique products\n"
     ]
    },
    {
     "data": {
      "image/png": "[encoded data removed]",
      "text/plain": [
       "<Figure size 640x480 with 1 Axes>"
      ]
     },
     "metadata": {},
     "output_type": "display_data"
    }
   ],
   "source": [
    "run_analysis(italy_tilt_data)"
   ]
  },
  {
   "cell_type": "markdown",
   "metadata": {},
   "source": [
    "### In-between level"
   ]
  },
  {
   "cell_type": "markdown",
   "metadata": {},
   "source": [
    "#### Company based vs EuroPages"
   ]
  },
  {
   "cell_type": "code",
   "execution_count": 18,
   "metadata": {},
   "outputs": [
    {
     "name": "stdout",
     "output_type": "stream",
     "text": [
      "The EuroPages catalogue covers the dataset for 55.21%\n"
     ]
    }
   ],
   "source": [
    "ep_catalogue_coverage(company_based_p_and_s, europages_activities_catalogue)"
   ]
  },
  {
   "cell_type": "markdown",
   "metadata": {},
   "source": [
    "#### new Italy Data vs EuroPages"
   ]
  },
  {
   "cell_type": "code",
   "execution_count": 21,
   "metadata": {},
   "outputs": [
    {
     "name": "stdout",
     "output_type": "stream",
     "text": [
      "The EuroPages catalogue covers the dataset for 2.59%\n"
     ]
    }
   ],
   "source": [
    "ep_catalogue_coverage(italy_tilt_data, europages_activities_catalogue)"
   ]
  }
 ],
 "metadata": {
  "kernelspec": {
   "display_name": "Python 3",
   "language": "python",
   "name": "python3"
  },
  "language_info": {
   "codemirror_mode": {
    "name": "ipython",
    "version": 3
   },
   "file_extension": ".py",
   "mimetype": "text/x-python",
   "name": "python",
   "nbconvert_exporter": "python",
   "pygments_lexer": "ipython3",
   "version": "3.10.13"
  }
 },
 "nbformat": 4,
 "nbformat_minor": 2
}
